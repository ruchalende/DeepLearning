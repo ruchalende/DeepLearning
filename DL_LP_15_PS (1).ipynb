{
  "nbformat": 4,
  "nbformat_minor": 0,
  "metadata": {
    "colab": {
      "provenance": []
    },
    "kernelspec": {
      "name": "python3",
      "display_name": "Python 3"
    },
    "language_info": {
      "name": "python"
    }
  },
  "cells": [
    {
      "cell_type": "markdown",
      "source": [
        "Implement the CBOW model"
      ],
      "metadata": {
        "id": "E4Wmb2mLu5WQ"
      }
    },
    {
      "cell_type": "code",
      "source": [
        "import re\n",
        "import numpy as np\n",
        "import matplotlib.pyplot as plt\n",
        "\n",
        "sentences = '/content/cbow.txt'"
      ],
      "metadata": {
        "id": "LgcMAmxTI6Op"
      },
      "execution_count": null,
      "outputs": []
    },
    {
      "cell_type": "code",
      "source": [
        "file = open('cbow.txt','r')\n",
        "s = \"\"\n",
        "\n",
        "for i in file :\n",
        "  s=s+i;\n",
        "print(s)\n"
      ],
      "metadata": {
        "colab": {
          "base_uri": "https://localhost:8080/"
        },
        "id": "Z_DZli-BJUrb",
        "outputId": "4f8d6053-c9c0-4297-dd8c-0c80e128ac54"
      },
      "execution_count": null,
      "outputs": [
        {
          "output_type": "stream",
          "name": "stdout",
          "text": [
            "As a human, intuitively speaking, it doesn’t make much sense in \n",
            "wanting to represent words or any other object in the universe \n",
            "using numbers because numbers are used for quantification and why \n",
            "would one need to quantify words?\n",
            "\n",
            "When in science, we say speed of my car is 45 km/hr we gain a sense \n",
            "of how fast/slow we are driving. If we say my friend is driving at \n",
            "60 km/hr, we can compare which one of us is going faster. Furthermore,\n",
            " we can calculate where we will be at a certain point in time, when\n",
            " we will reach our destination given we know the distance of our \n",
            "journey etc etc.\n",
            "\n",
            "Similarly, outside of science, we use numbers to quantify a quality, \n",
            "when we quote the price of an object we try to quantify its worth, \n",
            "the size of a garment we try to quantify the body proportions it will \n",
            "fit best.\n",
            "\n",
            "All of these representations make sense because by using numbers we \n",
            "have made analysis and comparisons based on those qualities much much \n",
            "easier. What’s worth more a shoe or a purse? Well, as different as \n",
            "those two objects are, one way to answer that is to compare their \n",
            "prices. Other than the quantification aspect, there isn’t any thing\n",
            " else to be gained by this representation.\n",
            "\n",
            "Now that we know numerical representation of objects aids in \n",
            "analysis by quantifying a certain quality, the question is what \n",
            "quality of words do we want to quantify?\n",
            "\n",
            "The answer to that is, we want to quantify the semantics. \n",
            "We want to represent words in such a manner that it captures \n",
            "its meaning in a way humans do. Not the exact meaning of the \n",
            "word but a contextual one. For example, when I say the word see, \n",
            "we know exactly what action — the context — I’m talking about, \n",
            "even though we might not be able to quote its meaning, the kind \n",
            "we would find in a dictionary, of the top of our head.\n"
          ]
        }
      ]
    },
    {
      "cell_type": "code",
      "source": [
        "sentences = s"
      ],
      "metadata": {
        "id": "9wvYsQCdJUu0"
      },
      "execution_count": null,
      "outputs": []
    },
    {
      "cell_type": "code",
      "source": [
        "# remove special characters\n",
        "sentences = re.sub('[^A-Za-z0-9]+', ' ', sentences)\n",
        "\n",
        "# remove 1 letter words\n",
        "sentences = re.sub(r'(?:^| )\\w(?:$| )', ' ', sentences).strip()\n",
        "\n",
        "# lower all characters\n",
        "sentences = sentences.lower()"
      ],
      "metadata": {
        "id": "Diwnak9HJUyZ"
      },
      "execution_count": null,
      "outputs": []
    },
    {
      "cell_type": "code",
      "source": [
        "words = sentences.split()\n",
        "vocab = set(words)\n",
        "vocab_size = len(vocab)\n",
        "embed_dim = 10\n",
        "context_size = 2"
      ],
      "metadata": {
        "id": "EB4bP3zuJU08"
      },
      "execution_count": null,
      "outputs": []
    },
    {
      "cell_type": "code",
      "source": [
        "word_to_ix = {word: i for i, word in enumerate(vocab)}\n",
        "ix_to_word = {i: word for i, word in enumerate(vocab)}"
      ],
      "metadata": {
        "id": "zHPaG4gpJU3v"
      },
      "execution_count": null,
      "outputs": []
    },
    {
      "cell_type": "code",
      "source": [
        "# data - [(context), target]\n",
        "\n",
        "data = []\n",
        "for i in range(2, len(words) - 2):\n",
        "    context = [words[i - 2], words[i - 1], words[i + 1], words[i + 2]]\n",
        "    target = words[i]\n",
        "    data.append((context, target))\n",
        "print(data[:5])"
      ],
      "metadata": {
        "colab": {
          "base_uri": "https://localhost:8080/"
        },
        "id": "SRQKjX9eJU5j",
        "outputId": "b9275aa2-d44b-4995-fb03-b0904254840f"
      },
      "execution_count": null,
      "outputs": [
        {
          "output_type": "stream",
          "name": "stdout",
          "text": [
            "[(['as', 'human', 'speaking', 'it'], 'intuitively'), (['human', 'intuitively', 'it', 'doesn'], 'speaking'), (['intuitively', 'speaking', 'doesn', 'make'], 'it'), (['speaking', 'it', 'make', 'much'], 'doesn'), (['it', 'doesn', 'much', 'sense'], 'make')]\n"
          ]
        }
      ]
    },
    {
      "cell_type": "code",
      "source": [
        "embeddings =  np.random.random_sample((vocab_size, embed_dim))"
      ],
      "metadata": {
        "id": "6LLueYm7KPYq"
      },
      "execution_count": null,
      "outputs": []
    },
    {
      "cell_type": "code",
      "source": [
        "def linear(m, theta):\n",
        "    w = theta\n",
        "    return m.dot(w)"
      ],
      "metadata": {
        "id": "kXZPVsvdKPbL"
      },
      "execution_count": null,
      "outputs": []
    },
    {
      "cell_type": "code",
      "source": [
        "def log_softmax(x):\n",
        "    e_x = np.exp(x - np.max(x))\n",
        "    return np.log(e_x / e_x.sum())\n",
        "def NLLLoss(logs, targets):\n",
        "    out = logs[range(len(targets)), targets]\n",
        "    return -out.sum()/len(out)"
      ],
      "metadata": {
        "id": "x8RB2_G7KPd-"
      },
      "execution_count": null,
      "outputs": []
    },
    {
      "cell_type": "code",
      "source": [
        "def log_softmax_crossentropy_with_logits(logits,target):\n",
        "\n",
        "    out = np.zeros_like(logits)\n",
        "    out[np.arange(len(logits)),target] = 1\n",
        "    \n",
        "    softmax = np.exp(logits) / np.exp(logits).sum(axis=-1,keepdims=True)\n",
        "    \n",
        "    return (- out + softmax) / logits.shape[0]"
      ],
      "metadata": {
        "id": "fj4J3RuDKPgL"
      },
      "execution_count": null,
      "outputs": []
    },
    {
      "cell_type": "code",
      "source": [
        "def forward(context_idxs, theta):\n",
        "    m = embeddings[context_idxs].reshape(1, -1)\n",
        "    n = linear(m, theta)\n",
        "    o = log_softmax(n)\n",
        "    \n",
        "    return m, n, o"
      ],
      "metadata": {
        "id": "eFiUHJeoKPiq"
      },
      "execution_count": null,
      "outputs": []
    },
    {
      "cell_type": "code",
      "source": [
        "def backward(preds, theta, target_idxs):\n",
        "    m, n, o = preds\n",
        "    \n",
        "    dlog = log_softmax_crossentropy_with_logits(n, target_idxs)\n",
        "    dw = m.T.dot(dlog)\n",
        "    \n",
        "    return dw"
      ],
      "metadata": {
        "id": "-7S9JoYkKPlk"
      },
      "execution_count": null,
      "outputs": []
    },
    {
      "cell_type": "code",
      "source": [
        "def optimize(theta, grad, lr=0.03):\n",
        "    theta -= grad * lr\n",
        "    return theta"
      ],
      "metadata": {
        "id": "PndlrQxtKozd"
      },
      "execution_count": null,
      "outputs": []
    },
    {
      "cell_type": "code",
      "source": [
        "theta = np.random.uniform(-1, 1, (2 * context_size * embed_dim, vocab_size))"
      ],
      "metadata": {
        "id": "Tsy4SxFXKo2e"
      },
      "execution_count": null,
      "outputs": []
    },
    {
      "cell_type": "code",
      "source": [
        "epoch_losses = {}\n",
        "\n",
        "for epoch in range(80):\n",
        "\n",
        "    losses =  []\n",
        "\n",
        "    for context, target in data:\n",
        "        context_idxs = np.array([word_to_ix[w] for w in context])\n",
        "        preds = forward(context_idxs, theta)\n",
        "\n",
        "        target_idxs = np.array([word_to_ix[target]])\n",
        "        loss = NLLLoss(preds[-1], target_idxs)\n",
        "\n",
        "        losses.append(loss)\n",
        "\n",
        "        grad = backward(preds, theta, target_idxs)\n",
        "        theta = optimize(theta, grad, lr=0.03)\n",
        "\n",
        "        epoch_losses[epoch] = losses"
      ],
      "metadata": {
        "id": "wPL2mSKTKo5j"
      },
      "execution_count": null,
      "outputs": []
    },
    {
      "cell_type": "code",
      "source": [
        "ix = np.arange(0,80)\n",
        "\n",
        "fig = plt.figure()\n",
        "fig.suptitle('Epoch/Losses', fontsize=20)\n",
        "plt.plot(ix,[epoch_losses[i][0] for i in ix])\n",
        "plt.xlabel('Epochs', fontsize=12)\n",
        "plt.ylabel('Losses', fontsize=12)"
      ],
      "metadata": {
        "colab": {
          "base_uri": "https://localhost:8080/",
          "height": 328
        },
        "id": "rwuBFh6kKo8b",
        "outputId": "d1c0206b-f79c-43ad-fdea-540bafc7766d"
      },
      "execution_count": null,
      "outputs": [
        {
          "output_type": "execute_result",
          "data": {
            "text/plain": [
              "Text(0, 0.5, 'Losses')"
            ]
          },
          "metadata": {},
          "execution_count": 22
        },
        {
          "output_type": "display_data",
          "data": {
            "text/plain": [
              "<Figure size 432x288 with 1 Axes>"
            ],
            "image/png": "[encoded data removed]"
          },
          "metadata": {
            "needs_background": "light"
          }
        }
      ]
    },
    {
      "cell_type": "code",
      "source": [
        "def predict(words):\n",
        "    context_idxs = np.array([word_to_ix[w] for w in words])\n",
        "    preds = forward(context_idxs, theta)\n",
        "    word = ix_to_word[np.argmax(preds[-1])]\n",
        "    \n",
        "    return word"
      ],
      "metadata": {
        "id": "Cq1vJKJ7Ko_9"
      },
      "execution_count": null,
      "outputs": []
    },
    {
      "cell_type": "code",
      "source": [
        "predict(['as', 'human', 'speaking', 'it'])"
      ],
      "metadata": {
        "colab": {
          "base_uri": "https://localhost:8080/",
          "height": 35
        },
        "id": "-oo4ziIIKPok",
        "outputId": "2eedb67f-31cb-4da9-ccf5-98f4cbbdaf01"
      },
      "execution_count": null,
      "outputs": [
        {
          "output_type": "execute_result",
          "data": {
            "text/plain": [
              "'intuitively'"
            ],
            "application/vnd.google.colaboratory.intrinsic+json": {
              "type": "string"
            }
          },
          "metadata": {},
          "execution_count": 24
        }
      ]
    },
    {
      "cell_type": "code",
      "source": [
        "predict(['all', 'of', 'this', 'make'])"
      ],
      "metadata": {
        "colab": {
          "base_uri": "https://localhost:8080/",
          "height": 35
        },
        "id": "HQdwrl_2LDFY",
        "outputId": "2bd27634-4c55-4034-cf9c-f841bc081463"
      },
      "execution_count": null,
      "outputs": [
        {
          "output_type": "execute_result",
          "data": {
            "text/plain": [
              "'the'"
            ],
            "application/vnd.google.colaboratory.intrinsic+json": {
              "type": "string"
            }
          },
          "metadata": {},
          "execution_count": 25
        }
      ]
    },
    {
      "cell_type": "code",
      "source": [
        "def accuracy():\n",
        "    wrong = 0\n",
        "\n",
        "    for context, target in data:\n",
        "        if(predict(context) != target):\n",
        "            wrong += 1\n",
        "            \n",
        "    return round((1 - (wrong / len(data))),3)\n",
        "accuracy()"
      ],
      "metadata": {
        "colab": {
          "base_uri": "https://localhost:8080/"
        },
        "id": "7CYeFtHbK_Ok",
        "outputId": "fbe54941-3d74-4dbc-f1e0-687bba38eea7"
      },
      "execution_count": null,
      "outputs": [
        {
          "output_type": "execute_result",
          "data": {
            "text/plain": [
              "0.901"
            ]
          },
          "metadata": {},
          "execution_count": 30
        }
      ]
    }
  ]
}