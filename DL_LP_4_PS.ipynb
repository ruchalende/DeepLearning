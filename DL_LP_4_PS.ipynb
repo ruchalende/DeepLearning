{
  "nbformat": 4,
  "nbformat_minor": 0,
  "metadata": {
    "colab": {
      "provenance": []
    },
    "kernelspec": {
      "name": "python3",
      "display_name": "Python 3"
    },
    "language_info": {
      "name": "python"
    },
    "accelerator": "GPU",
    "gpuClass": "standard"
  },
  "cells": [
    {
      "cell_type": "markdown",
      "source": [
        "#Implement Feedforward neural networks with Keras and TensorFlow CIFAR dataset"
      ],
      "metadata": {
        "id": "3xN2sqyaV72-"
      }
    },
    {
      "cell_type": "code",
      "execution_count": null,
      "metadata": {
        "id": "_rhY0rvJVy0o"
      },
      "outputs": [],
      "source": [
        "from sklearn.preprocessing import LabelBinarizer\n",
        "from sklearn.metrics import classification_report\n",
        "from tensorflow.keras.models import Sequential\n",
        "from tensorflow.keras.layers import Dense\n",
        "from tensorflow.keras.optimizers import SGD\n",
        "from tensorflow.keras.datasets import cifar10\n",
        "import matplotlib.pyplot as plt\n",
        "import numpy as np\n",
        "import argparse"
      ]
    },
    {
      "cell_type": "code",
      "source": [
        "# load the training and testing data, scale it into the range [0, 1],\n",
        "# then reshape the design matrix\n",
        "print(\"[INFO] loading CIFAR-10 data...\")\n",
        "((trainX, trainY), (testX, testY)) = cifar10.load_data()\n",
        "trainX = trainX.astype(\"float\") / 255.0\n",
        "testX = testX.astype(\"float\") / 255.0\n",
        "trainX = trainX.reshape((trainX.shape[0], 3072))\n",
        "testX = testX.reshape((testX.shape[0], 3072))"
      ],
      "metadata": {
        "colab": {
          "base_uri": "https://localhost:8080/"
        },
        "id": "uhfwUW6GWD21",
        "outputId": "2ef753a6-c8d2-429e-86c4-f963fa86cc72"
      },
      "execution_count": null,
      "outputs": [
        {
          "output_type": "stream",
          "name": "stdout",
          "text": [
            "[INFO] loading CIFAR-10 data...\n",
            "Downloading data from https://www.cs.toronto.edu/~kriz/cifar-10-python.tar.gz\n",
            "170498071/170498071 [==============================] - 15s 0us/step\n"
          ]
        }
      ]
    },
    {
      "cell_type": "code",
      "source": [
        "# convert the labels from integers to vectors\n",
        "lb = LabelBinarizer()\n",
        "trainY = lb.fit_transform(trainY)\n",
        "testY = lb.transform(testY)\n",
        "\n",
        "# initialize the label names for the CIFAR-10 dataset\n",
        "labelNames = [\"airplane\", \"automobile\", \"bird\", \"cat\", \"deer\",\n",
        "\t\"dog\", \"frog\", \"horse\", \"ship\", \"truck\"]\n",
        "# define the 3072-1024-512-10 architecture using Keras\n",
        "model = Sequential()\n",
        "model.add(Dense(1024, input_shape=(3072,), activation=\"relu\"))\n",
        "model.add(Dense(512, activation=\"relu\"))\n",
        "model.add(Dense(10, activation=\"softmax\"))\n",
        "# train the model using SGD\n",
        "print(\"[INFO] training network...\")\n",
        "sgd = SGD(0.01)\n",
        "model.compile(loss=\"categorical_crossentropy\", optimizer=sgd,\n",
        "\tmetrics=[\"accuracy\"])\n",
        "H = model.fit(trainX, trainY, validation_data=(testX, testY),\n",
        "\tepochs=100, batch_size=32)"
      ],
      "metadata": {
        "colab": {
          "base_uri": "https://localhost:8080/"
        },
        "id": "WLmTRDz8WD5d",
        "outputId": "877c6892-5433-492d-a36c-5988307bf751"
      },
      "execution_count": null,
      "outputs": [
        {
          "output_type": "stream",
          "name": "stdout",
          "text": [
            "[INFO] training network...\n",
            "Epoch 1/100\n",
            "1563/1563 [==============================] - 8s 4ms/step - loss: 1.8356 - accuracy: 0.3456 - val_loss: 1.7042 - val_accuracy: 0.3956\n",
            "Epoch 2/100\n",
            "1563/1563 [==============================] - 6s 4ms/step - loss: 1.6479 - accuracy: 0.4195 - val_loss: 1.5957 - val_accuracy: 0.4275\n",
            "Epoch 3/100\n",
            "1563/1563 [==============================] - 6s 4ms/step - loss: 1.5696 - accuracy: 0.4447 - val_loss: 1.5390 - val_accuracy: 0.4512\n",
            "Epoch 4/100\n",
            "1563/1563 [==============================] - 6s 4ms/step - loss: 1.5093 - accuracy: 0.4677 - val_loss: 1.6110 - val_accuracy: 0.4184\n",
            "Epoch 5/100\n",
            "1563/1563 [==============================] - 6s 4ms/step - loss: 1.4630 - accuracy: 0.4833 - val_loss: 1.4807 - val_accuracy: 0.4772\n",
            "Epoch 6/100\n",
            "1563/1563 [==============================] - 6s 4ms/step - loss: 1.4229 - accuracy: 0.4975 - val_loss: 1.5498 - val_accuracy: 0.4532\n",
            "Epoch 7/100\n",
            "1563/1563 [==============================] - 6s 4ms/step - loss: 1.3845 - accuracy: 0.5112 - val_loss: 1.4339 - val_accuracy: 0.4954\n",
            "Epoch 8/100\n",
            "1563/1563 [==============================] - 7s 4ms/step - loss: 1.3549 - accuracy: 0.5225 - val_loss: 1.5054 - val_accuracy: 0.4761\n",
            "Epoch 9/100\n",
            "1563/1563 [==============================] - 6s 4ms/step - loss: 1.3236 - accuracy: 0.5343 - val_loss: 1.4487 - val_accuracy: 0.4853\n",
            "Epoch 10/100\n",
            "1563/1563 [==============================] - 6s 4ms/step - loss: 1.2950 - accuracy: 0.5445 - val_loss: 1.4381 - val_accuracy: 0.4943\n",
            "Epoch 11/100\n",
            "1563/1563 [==============================] - 6s 4ms/step - loss: 1.2699 - accuracy: 0.5539 - val_loss: 1.4672 - val_accuracy: 0.4811\n",
            "Epoch 12/100\n",
            "1563/1563 [==============================] - 6s 4ms/step - loss: 1.2431 - accuracy: 0.5636 - val_loss: 1.3970 - val_accuracy: 0.4986\n",
            "Epoch 13/100\n",
            "1563/1563 [==============================] - 6s 4ms/step - loss: 1.2173 - accuracy: 0.5706 - val_loss: 1.4220 - val_accuracy: 0.4881\n",
            "Epoch 14/100\n",
            "1563/1563 [==============================] - 6s 4ms/step - loss: 1.1937 - accuracy: 0.5820 - val_loss: 1.3331 - val_accuracy: 0.5236\n",
            "Epoch 15/100\n",
            "1563/1563 [==============================] - 6s 4ms/step - loss: 1.1729 - accuracy: 0.5890 - val_loss: 1.3718 - val_accuracy: 0.5151\n",
            "Epoch 16/100\n",
            "1563/1563 [==============================] - 6s 4ms/step - loss: 1.1479 - accuracy: 0.5955 - val_loss: 1.3324 - val_accuracy: 0.5244\n",
            "Epoch 17/100\n",
            "1563/1563 [==============================] - 6s 4ms/step - loss: 1.1248 - accuracy: 0.6049 - val_loss: 1.3191 - val_accuracy: 0.5312\n",
            "Epoch 18/100\n",
            "1563/1563 [==============================] - 6s 4ms/step - loss: 1.1020 - accuracy: 0.6157 - val_loss: 1.3584 - val_accuracy: 0.5217\n",
            "Epoch 19/100\n",
            "1563/1563 [==============================] - 6s 4ms/step - loss: 1.0811 - accuracy: 0.6202 - val_loss: 1.4183 - val_accuracy: 0.5049\n",
            "Epoch 20/100\n",
            "1563/1563 [==============================] - 6s 4ms/step - loss: 1.0583 - accuracy: 0.6302 - val_loss: 1.3495 - val_accuracy: 0.5168\n",
            "Epoch 21/100\n",
            "1563/1563 [==============================] - 6s 4ms/step - loss: 1.0392 - accuracy: 0.6350 - val_loss: 1.3743 - val_accuracy: 0.5153\n",
            "Epoch 22/100\n",
            "1563/1563 [==============================] - 6s 4ms/step - loss: 1.0142 - accuracy: 0.6465 - val_loss: 1.2765 - val_accuracy: 0.5449\n",
            "Epoch 23/100\n",
            "1563/1563 [==============================] - 6s 4ms/step - loss: 0.9929 - accuracy: 0.6519 - val_loss: 1.3248 - val_accuracy: 0.5369\n",
            "Epoch 24/100\n",
            "1563/1563 [==============================] - 6s 4ms/step - loss: 0.9720 - accuracy: 0.6592 - val_loss: 1.3554 - val_accuracy: 0.5293\n",
            "Epoch 25/100\n",
            "1563/1563 [==============================] - 6s 4ms/step - loss: 0.9500 - accuracy: 0.6688 - val_loss: 1.4524 - val_accuracy: 0.4923\n",
            "Epoch 26/100\n",
            "1563/1563 [==============================] - 6s 4ms/step - loss: 0.9299 - accuracy: 0.6743 - val_loss: 1.3318 - val_accuracy: 0.5416\n",
            "Epoch 27/100\n",
            "1563/1563 [==============================] - 5s 4ms/step - loss: 0.9064 - accuracy: 0.6847 - val_loss: 1.3417 - val_accuracy: 0.5377\n",
            "Epoch 28/100\n",
            "1563/1563 [==============================] - 6s 4ms/step - loss: 0.8871 - accuracy: 0.6905 - val_loss: 1.3451 - val_accuracy: 0.5458\n",
            "Epoch 29/100\n",
            "1563/1563 [==============================] - 7s 4ms/step - loss: 0.8646 - accuracy: 0.6994 - val_loss: 1.3487 - val_accuracy: 0.5375\n",
            "Epoch 30/100\n",
            "1563/1563 [==============================] - 5s 4ms/step - loss: 0.8440 - accuracy: 0.7076 - val_loss: 1.3906 - val_accuracy: 0.5316\n",
            "Epoch 31/100\n",
            "1563/1563 [==============================] - 6s 4ms/step - loss: 0.8237 - accuracy: 0.7160 - val_loss: 1.4313 - val_accuracy: 0.5262\n",
            "Epoch 32/100\n",
            "1563/1563 [==============================] - 6s 4ms/step - loss: 0.8055 - accuracy: 0.7212 - val_loss: 1.3998 - val_accuracy: 0.5393\n",
            "Epoch 33/100\n",
            "1563/1563 [==============================] - 6s 4ms/step - loss: 0.7801 - accuracy: 0.7299 - val_loss: 1.3567 - val_accuracy: 0.5485\n",
            "Epoch 34/100\n",
            "1563/1563 [==============================] - 5s 4ms/step - loss: 0.7605 - accuracy: 0.7369 - val_loss: 1.3669 - val_accuracy: 0.5467\n",
            "Epoch 35/100\n",
            "1563/1563 [==============================] - 6s 4ms/step - loss: 0.7416 - accuracy: 0.7426 - val_loss: 1.4239 - val_accuracy: 0.5398\n",
            "Epoch 36/100\n",
            "1563/1563 [==============================] - 6s 4ms/step - loss: 0.7214 - accuracy: 0.7498 - val_loss: 1.4120 - val_accuracy: 0.5356\n",
            "Epoch 37/100\n",
            "1563/1563 [==============================] - 6s 4ms/step - loss: 0.7011 - accuracy: 0.7569 - val_loss: 1.3776 - val_accuracy: 0.5468\n",
            "Epoch 38/100\n",
            "1563/1563 [==============================] - 6s 4ms/step - loss: 0.6803 - accuracy: 0.7665 - val_loss: 1.4759 - val_accuracy: 0.5347\n",
            "Epoch 39/100\n",
            "1563/1563 [==============================] - 5s 3ms/step - loss: 0.6596 - accuracy: 0.7736 - val_loss: 1.4319 - val_accuracy: 0.5441\n",
            "Epoch 40/100\n",
            "1563/1563 [==============================] - 6s 4ms/step - loss: 0.6372 - accuracy: 0.7817 - val_loss: 1.5824 - val_accuracy: 0.5224\n",
            "Epoch 41/100\n",
            "1563/1563 [==============================] - 5s 4ms/step - loss: 0.6203 - accuracy: 0.7885 - val_loss: 1.5253 - val_accuracy: 0.5290\n",
            "Epoch 42/100\n",
            "1563/1563 [==============================] - 6s 4ms/step - loss: 0.5998 - accuracy: 0.7946 - val_loss: 1.4808 - val_accuracy: 0.5445\n",
            "Epoch 43/100\n",
            "1563/1563 [==============================] - 5s 3ms/step - loss: 0.5793 - accuracy: 0.8014 - val_loss: 1.5634 - val_accuracy: 0.5358\n",
            "Epoch 44/100\n",
            "1563/1563 [==============================] - 6s 4ms/step - loss: 0.5618 - accuracy: 0.8110 - val_loss: 1.5864 - val_accuracy: 0.5273\n",
            "Epoch 45/100\n",
            "1563/1563 [==============================] - 6s 4ms/step - loss: 0.5449 - accuracy: 0.8165 - val_loss: 1.5469 - val_accuracy: 0.5373\n",
            "Epoch 46/100\n",
            "1563/1563 [==============================] - 5s 3ms/step - loss: 0.5238 - accuracy: 0.8237 - val_loss: 1.5191 - val_accuracy: 0.5406\n",
            "Epoch 47/100\n",
            "1563/1563 [==============================] - 6s 4ms/step - loss: 0.5030 - accuracy: 0.8286 - val_loss: 1.5800 - val_accuracy: 0.5350\n",
            "Epoch 48/100\n",
            "1563/1563 [==============================] - 6s 4ms/step - loss: 0.4869 - accuracy: 0.8368 - val_loss: 1.6465 - val_accuracy: 0.5201\n",
            "Epoch 49/100\n",
            "1563/1563 [==============================] - 5s 4ms/step - loss: 0.4671 - accuracy: 0.8457 - val_loss: 1.5733 - val_accuracy: 0.5397\n",
            "Epoch 50/100\n",
            "1563/1563 [==============================] - 6s 4ms/step - loss: 0.4497 - accuracy: 0.8515 - val_loss: 1.6295 - val_accuracy: 0.5380\n",
            "Epoch 51/100\n",
            "1563/1563 [==============================] - 5s 4ms/step - loss: 0.4305 - accuracy: 0.8573 - val_loss: 1.6901 - val_accuracy: 0.5227\n",
            "Epoch 52/100\n",
            "1563/1563 [==============================] - 6s 4ms/step - loss: 0.4149 - accuracy: 0.8638 - val_loss: 1.6909 - val_accuracy: 0.5347\n",
            "Epoch 53/100\n",
            "1563/1563 [==============================] - 6s 4ms/step - loss: 0.4021 - accuracy: 0.8696 - val_loss: 1.6494 - val_accuracy: 0.5341\n",
            "Epoch 54/100\n",
            "1563/1563 [==============================] - 6s 4ms/step - loss: 0.3864 - accuracy: 0.8740 - val_loss: 1.7661 - val_accuracy: 0.5230\n",
            "Epoch 55/100\n",
            "1563/1563 [==============================] - 6s 4ms/step - loss: 0.3708 - accuracy: 0.8804 - val_loss: 1.6705 - val_accuracy: 0.5461\n",
            "Epoch 56/100\n",
            "1563/1563 [==============================] - 6s 4ms/step - loss: 0.3541 - accuracy: 0.8873 - val_loss: 1.6239 - val_accuracy: 0.5538\n",
            "Epoch 57/100\n",
            "1563/1563 [==============================] - 5s 3ms/step - loss: 0.3355 - accuracy: 0.8947 - val_loss: 1.7061 - val_accuracy: 0.5447\n",
            "Epoch 58/100\n",
            "1563/1563 [==============================] - 6s 4ms/step - loss: 0.3181 - accuracy: 0.8990 - val_loss: 1.8098 - val_accuracy: 0.5325\n",
            "Epoch 59/100\n",
            "1563/1563 [==============================] - 5s 4ms/step - loss: 0.3088 - accuracy: 0.9038 - val_loss: 1.6922 - val_accuracy: 0.5518\n",
            "Epoch 60/100\n",
            "1563/1563 [==============================] - 6s 4ms/step - loss: 0.2926 - accuracy: 0.9100 - val_loss: 1.7100 - val_accuracy: 0.5485\n",
            "Epoch 61/100\n",
            "1563/1563 [==============================] - 6s 4ms/step - loss: 0.2820 - accuracy: 0.9116 - val_loss: 1.6838 - val_accuracy: 0.5574\n",
            "Epoch 62/100\n",
            "1563/1563 [==============================] - 6s 4ms/step - loss: 0.2707 - accuracy: 0.9171 - val_loss: 1.8439 - val_accuracy: 0.5318\n",
            "Epoch 63/100\n",
            "1563/1563 [==============================] - 6s 4ms/step - loss: 0.2591 - accuracy: 0.9204 - val_loss: 1.8462 - val_accuracy: 0.5490\n",
            "Epoch 64/100\n",
            "1563/1563 [==============================] - 6s 4ms/step - loss: 0.2408 - accuracy: 0.9292 - val_loss: 1.7408 - val_accuracy: 0.5558\n",
            "Epoch 65/100\n",
            "1563/1563 [==============================] - 6s 4ms/step - loss: 0.2269 - accuracy: 0.9335 - val_loss: 1.7708 - val_accuracy: 0.5607\n",
            "Epoch 66/100\n",
            "1563/1563 [==============================] - 6s 4ms/step - loss: 0.2225 - accuracy: 0.9335 - val_loss: 2.0560 - val_accuracy: 0.5057\n",
            "Epoch 67/100\n",
            "1563/1563 [==============================] - 6s 4ms/step - loss: 0.2129 - accuracy: 0.9372 - val_loss: 1.8280 - val_accuracy: 0.5629\n",
            "Epoch 68/100\n",
            "1563/1563 [==============================] - 6s 4ms/step - loss: 0.1949 - accuracy: 0.9454 - val_loss: 1.8253 - val_accuracy: 0.5579\n",
            "Epoch 69/100\n",
            "1563/1563 [==============================] - 5s 4ms/step - loss: 0.1893 - accuracy: 0.9453 - val_loss: 1.9158 - val_accuracy: 0.5434\n",
            "Epoch 70/100\n",
            "1563/1563 [==============================] - 6s 4ms/step - loss: 0.1773 - accuracy: 0.9499 - val_loss: 2.0388 - val_accuracy: 0.5449\n",
            "Epoch 71/100\n",
            "1563/1563 [==============================] - 6s 4ms/step - loss: 0.1720 - accuracy: 0.9514 - val_loss: 1.9084 - val_accuracy: 0.5558\n",
            "Epoch 72/100\n",
            "1563/1563 [==============================] - 6s 4ms/step - loss: 0.1627 - accuracy: 0.9546 - val_loss: 2.0488 - val_accuracy: 0.5465\n",
            "Epoch 73/100\n",
            "1563/1563 [==============================] - 6s 4ms/step - loss: 0.1493 - accuracy: 0.9609 - val_loss: 1.9310 - val_accuracy: 0.5540\n",
            "Epoch 74/100\n",
            "1563/1563 [==============================] - 6s 4ms/step - loss: 0.1425 - accuracy: 0.9629 - val_loss: 1.9678 - val_accuracy: 0.5546\n",
            "Epoch 75/100\n",
            "1563/1563 [==============================] - 6s 4ms/step - loss: 0.1371 - accuracy: 0.9649 - val_loss: 1.9919 - val_accuracy: 0.5557\n",
            "Epoch 76/100\n",
            "1563/1563 [==============================] - 6s 4ms/step - loss: 0.1263 - accuracy: 0.9686 - val_loss: 2.1455 - val_accuracy: 0.5405\n",
            "Epoch 77/100\n",
            "1563/1563 [==============================] - 6s 4ms/step - loss: 0.1170 - accuracy: 0.9708 - val_loss: 2.0189 - val_accuracy: 0.5592\n",
            "Epoch 78/100\n",
            "1563/1563 [==============================] - 6s 4ms/step - loss: 0.1096 - accuracy: 0.9738 - val_loss: 2.0143 - val_accuracy: 0.5601\n",
            "Epoch 79/100\n",
            "1563/1563 [==============================] - 6s 4ms/step - loss: 0.1065 - accuracy: 0.9736 - val_loss: 2.0373 - val_accuracy: 0.5580\n",
            "Epoch 80/100\n",
            "1563/1563 [==============================] - 6s 4ms/step - loss: 0.0974 - accuracy: 0.9780 - val_loss: 2.0309 - val_accuracy: 0.5666\n",
            "Epoch 81/100\n",
            "1563/1563 [==============================] - 6s 4ms/step - loss: 0.0959 - accuracy: 0.9773 - val_loss: 2.0300 - val_accuracy: 0.5610\n",
            "Epoch 82/100\n",
            "1563/1563 [==============================] - 6s 4ms/step - loss: 0.0854 - accuracy: 0.9820 - val_loss: 2.0296 - val_accuracy: 0.5650\n",
            "Epoch 83/100\n",
            "1563/1563 [==============================] - 6s 4ms/step - loss: 0.0804 - accuracy: 0.9828 - val_loss: 2.4192 - val_accuracy: 0.5271\n",
            "Epoch 84/100\n",
            "1563/1563 [==============================] - 6s 4ms/step - loss: 0.0739 - accuracy: 0.9846 - val_loss: 2.0900 - val_accuracy: 0.5647\n",
            "Epoch 85/100\n",
            "1563/1563 [==============================] - 6s 4ms/step - loss: 0.0690 - accuracy: 0.9868 - val_loss: 2.0952 - val_accuracy: 0.5638\n",
            "Epoch 86/100\n",
            "1563/1563 [==============================] - 6s 4ms/step - loss: 0.0643 - accuracy: 0.9883 - val_loss: 2.1217 - val_accuracy: 0.5659\n",
            "Epoch 87/100\n",
            "1563/1563 [==============================] - 6s 4ms/step - loss: 0.0618 - accuracy: 0.9879 - val_loss: 2.1204 - val_accuracy: 0.5636\n",
            "Epoch 88/100\n",
            "1563/1563 [==============================] - 5s 4ms/step - loss: 0.0560 - accuracy: 0.9903 - val_loss: 2.1391 - val_accuracy: 0.5599\n",
            "Epoch 89/100\n",
            "1563/1563 [==============================] - 6s 4ms/step - loss: 0.0522 - accuracy: 0.9915 - val_loss: 2.2271 - val_accuracy: 0.5622\n",
            "Epoch 90/100\n",
            "1563/1563 [==============================] - 6s 4ms/step - loss: 0.0535 - accuracy: 0.9903 - val_loss: 2.1575 - val_accuracy: 0.5700\n",
            "Epoch 91/100\n",
            "1563/1563 [==============================] - 6s 4ms/step - loss: 0.0447 - accuracy: 0.9937 - val_loss: 2.2238 - val_accuracy: 0.5592\n",
            "Epoch 92/100\n",
            "1563/1563 [==============================] - 6s 4ms/step - loss: 0.0451 - accuracy: 0.9927 - val_loss: 2.1985 - val_accuracy: 0.5696\n",
            "Epoch 93/100\n",
            "1563/1563 [==============================] - 6s 4ms/step - loss: 0.0387 - accuracy: 0.9946 - val_loss: 2.1862 - val_accuracy: 0.5654\n",
            "Epoch 94/100\n",
            "1563/1563 [==============================] - 6s 4ms/step - loss: 0.0372 - accuracy: 0.9949 - val_loss: 2.2059 - val_accuracy: 0.5701\n",
            "Epoch 95/100\n",
            "1563/1563 [==============================] - 6s 4ms/step - loss: 0.0334 - accuracy: 0.9962 - val_loss: 2.2709 - val_accuracy: 0.5663\n",
            "Epoch 96/100\n",
            "1563/1563 [==============================] - 6s 4ms/step - loss: 0.0333 - accuracy: 0.9958 - val_loss: 2.2561 - val_accuracy: 0.5675\n",
            "Epoch 97/100\n",
            "1563/1563 [==============================] - 6s 4ms/step - loss: 0.0298 - accuracy: 0.9968 - val_loss: 2.2867 - val_accuracy: 0.5647\n",
            "Epoch 98/100\n",
            "1563/1563 [==============================] - 6s 4ms/step - loss: 0.0285 - accuracy: 0.9970 - val_loss: 2.3040 - val_accuracy: 0.5665\n",
            "Epoch 99/100\n",
            "1563/1563 [==============================] - 6s 4ms/step - loss: 0.0278 - accuracy: 0.9971 - val_loss: 2.3043 - val_accuracy: 0.5645\n",
            "Epoch 100/100\n",
            "1563/1563 [==============================] - 6s 4ms/step - loss: 0.0244 - accuracy: 0.9978 - val_loss: 2.2761 - val_accuracy: 0.5698\n"
          ]
        }
      ]
    },
    {
      "cell_type": "code",
      "source": [
        "# evaluate the network\n",
        "print(\"[INFO] evaluating network...\")\n",
        "predictions = model.predict(testX, batch_size=32)\n",
        "print(classification_report(testY.argmax(axis=1),predictions.argmax(axis=1), target_names=labelNames))"
      ],
      "metadata": {
        "colab": {
          "base_uri": "https://localhost:8080/"
        },
        "id": "mkvhqvEOWD7v",
        "outputId": "f4088c91-dffe-4126-9f67-555570ea66c2"
      },
      "execution_count": null,
      "outputs": [
        {
          "output_type": "stream",
          "name": "stdout",
          "text": [
            "[INFO] evaluating network...\n",
            "313/313 [==============================] - 1s 2ms/step\n",
            "              precision    recall  f1-score   support\n",
            "\n",
            "    airplane       0.65      0.64      0.65      1000\n",
            "  automobile       0.68      0.66      0.67      1000\n",
            "        bird       0.48      0.48      0.48      1000\n",
            "         cat       0.38      0.40      0.39      1000\n",
            "        deer       0.50      0.48      0.49      1000\n",
            "         dog       0.47      0.48      0.48      1000\n",
            "        frog       0.62      0.60      0.61      1000\n",
            "       horse       0.66      0.61      0.64      1000\n",
            "        ship       0.69      0.72      0.70      1000\n",
            "       truck       0.58      0.62      0.60      1000\n",
            "\n",
            "    accuracy                           0.57     10000\n",
            "   macro avg       0.57      0.57      0.57     10000\n",
            "weighted avg       0.57      0.57      0.57     10000\n",
            "\n"
          ]
        }
      ]
    },
    {
      "cell_type": "code",
      "source": [
        "# plot the training loss and accuracy\n",
        "plt.style.use(\"ggplot\")\n",
        "plt.figure()\n",
        "plt.plot(np.arange(0, 100), H.history[\"loss\"], label=\"train_loss\")\n",
        "plt.plot(np.arange(0, 100), H.history[\"val_loss\"], label=\"val_loss\")\n",
        "plt.plot(np.arange(0, 100), H.history[\"accuracy\"], label=\"train_acc\")\n",
        "plt.plot(np.arange(0, 100), H.history[\"val_accuracy\"], label=\"val_acc\")\n",
        "plt.title(\"Training Loss and Accuracy\")\n",
        "plt.xlabel(\"Epoch #\")\n",
        "plt.ylabel(\"Loss/Accuracy\")\n",
        "plt.legend()\n",
        "#plt.savefig(args[\"output\"])"
      ],
      "metadata": {
        "colab": {
          "base_uri": "https://localhost:8080/",
          "height": 316
        },
        "id": "nJaTCdqGWD-U",
        "outputId": "8b21d72d-24bb-4929-a033-b3aa2b1146fb"
      },
      "execution_count": null,
      "outputs": [
        {
          "output_type": "execute_result",
          "data": {
            "text/plain": [
              "<matplotlib.legend.Legend at 0x7f879a445e10>"
            ]
          },
          "metadata": {},
          "execution_count": 5
        },
        {
          "output_type": "display_data",
          "data": {
            "text/plain": [
              "<Figure size 432x288 with 1 Axes>"
            ],
            "image/png": "[encoded data removed]"
          },
          "metadata": {}
        }
      ]
    }
  ]
}