{
  "nbformat": 4,
  "nbformat_minor": 0,
  "metadata": {
    "colab": {
      "provenance": []
    },
    "kernelspec": {
      "name": "python3",
      "display_name": "Python 3"
    },
    "language_info": {
      "name": "python"
    },
    "accelerator": "GPU",
    "gpuClass": "standard"
  },
  "cells": [
    {
      "cell_type": "code",
      "execution_count": null,
      "metadata": {
        "colab": {
          "base_uri": "https://localhost:8080/"
        },
        "id": "pnzgmd37M5fy",
        "outputId": "14bbe523-38b2-4b20-c11c-f95dfb3124b5"
      },
      "outputs": [
        {
          "output_type": "stream",
          "name": "stdout",
          "text": [
            "Mounted at /content/drive\n"
          ]
        }
      ],
      "source": [
        "from google.colab import drive\n",
        "drive.mount('/content/drive')"
      ]
    },
    {
      "cell_type": "code",
      "source": [
        "import numpy as np # linear algebra\n",
        "import pandas as pd # data processing, CSV file I/O (e.g. pd.read_csv)\n",
        "import matplotlib.pyplot as plt\n",
        "import seaborn as sns\n",
        "# Input data files are available in the \"../input/\" directory.\n",
        "# For example, running this (by clicking run or pressing Shift+Enter) will list the files in the input directory\n",
        "from sklearn.preprocessing import StandardScaler\n",
        "from sklearn.model_selection import train_test_split\n",
        "\n",
        "df = pd.read_csv('/content/drive/MyDrive/creditcard.csv', encoding = 'latin1')"
      ],
      "metadata": {
        "id": "JlZs7B4aNG5b"
      },
      "execution_count": null,
      "outputs": []
    },
    {
      "cell_type": "code",
      "source": [
        "df.describe()"
      ],
      "metadata": {
        "colab": {
          "base_uri": "https://localhost:8080/",
          "height": 394
        },
        "id": "0EIHKzkBsvk3",
        "outputId": "672e68a9-5690-404e-d2d9-9501154d253d"
      },
      "execution_count": null,
      "outputs": [
        {
          "output_type": "execute_result",
          "data": {
            "text/plain": [
              "                Time            V1            V2            V3            V4  \\\n",
              "count  284807.000000  2.848070e+05  2.848070e+05  2.848070e+05  2.848070e+05   \n",
              "mean    94813.859575  1.168375e-15  3.416908e-16 -1.379537e-15  2.074095e-15   \n",
              "std     47488.145955  1.958696e+00  1.651309e+00  1.516255e+00  1.415869e+00   \n",
              "min         0.000000 -5.640751e+01 -7.271573e+01 -4.832559e+01 -5.683171e+00   \n",
              "25%     54201.500000 -9.203734e-01 -5.985499e-01 -8.903648e-01 -8.486401e-01   \n",
              "50%     84692.000000  1.810880e-02  6.548556e-02  1.798463e-01 -1.984653e-02   \n",
              "75%    139320.500000  1.315642e+00  8.037239e-01  1.027196e+00  7.433413e-01   \n",
              "max    172792.000000  2.454930e+00  2.205773e+01  9.382558e+00  1.687534e+01   \n",
              "\n",
              "                 V5            V6            V7            V8            V9  \\\n",
              "count  2.848070e+05  2.848070e+05  2.848070e+05  2.848070e+05  2.848070e+05   \n",
              "mean   9.604066e-16  1.487313e-15 -5.556467e-16  1.213481e-16 -2.406331e-15   \n",
              "std    1.380247e+00  1.332271e+00  1.237094e+00  1.194353e+00  1.098632e+00   \n",
              "min   -1.137433e+02 -2.616051e+01 -4.355724e+01 -7.321672e+01 -1.343407e+01   \n",
              "25%   -6.915971e-01 -7.682956e-01 -5.540759e-01 -2.086297e-01 -6.430976e-01   \n",
              "50%   -5.433583e-02 -2.741871e-01  4.010308e-02  2.235804e-02 -5.142873e-02   \n",
              "75%    6.119264e-01  3.985649e-01  5.704361e-01  3.273459e-01  5.971390e-01   \n",
              "max    3.480167e+01  7.330163e+01  1.205895e+02  2.000721e+01  1.559499e+01   \n",
              "\n",
              "       ...           V21           V22           V23           V24  \\\n",
              "count  ...  2.848070e+05  2.848070e+05  2.848070e+05  2.848070e+05   \n",
              "mean   ...  1.654067e-16 -3.568593e-16  2.578648e-16  4.473266e-15   \n",
              "std    ...  7.345240e-01  7.257016e-01  6.244603e-01  6.056471e-01   \n",
              "min    ... -3.483038e+01 -1.093314e+01 -4.480774e+01 -2.836627e+00   \n",
              "25%    ... -2.283949e-01 -5.423504e-01 -1.618463e-01 -3.545861e-01   \n",
              "50%    ... -2.945017e-02  6.781943e-03 -1.119293e-02  4.097606e-02   \n",
              "75%    ...  1.863772e-01  5.285536e-01  1.476421e-01  4.395266e-01   \n",
              "max    ...  2.720284e+01  1.050309e+01  2.252841e+01  4.584549e+00   \n",
              "\n",
              "                V25           V26           V27           V28         Amount  \\\n",
              "count  2.848070e+05  2.848070e+05  2.848070e+05  2.848070e+05  284807.000000   \n",
              "mean   5.340915e-16  1.683437e-15 -3.660091e-16 -1.227390e-16      88.349619   \n",
              "std    5.212781e-01  4.822270e-01  4.036325e-01  3.300833e-01     250.120109   \n",
              "min   -1.029540e+01 -2.604551e+00 -2.256568e+01 -1.543008e+01       0.000000   \n",
              "25%   -3.171451e-01 -3.269839e-01 -7.083953e-02 -5.295979e-02       5.600000   \n",
              "50%    1.659350e-02 -5.213911e-02  1.342146e-03  1.124383e-02      22.000000   \n",
              "75%    3.507156e-01  2.409522e-01  9.104512e-02  7.827995e-02      77.165000   \n",
              "max    7.519589e+00  3.517346e+00  3.161220e+01  3.384781e+01   25691.160000   \n",
              "\n",
              "               Class  \n",
              "count  284807.000000  \n",
              "mean        0.001727  \n",
              "std         0.041527  \n",
              "min         0.000000  \n",
              "25%         0.000000  \n",
              "50%         0.000000  \n",
              "75%         0.000000  \n",
              "max         1.000000  \n",
              "\n",
              "[8 rows x 31 columns]"
            ],
            "text/html": [
              "\n",
              "  <div id=\"df-b69664d5-cfd7-458f-a483-1c9be2dd4af9\">\n",
              "    <div class=\"colab-df-container\">\n",
              "      <div>\n",
              "<style scoped>\n",
              "    .dataframe tbody tr th:only-of-type {\n",
              "        vertical-align: middle;\n",
              "    }\n",
              "\n",
              "    .dataframe tbody tr th {\n",
              "        vertical-align: top;\n",
              "    }\n",
              "\n",
              "    .dataframe thead th {\n",
              "        text-align: right;\n",
              "    }\n",
              "</style>\n",
              "<table border=\"1\" class=\"dataframe\">\n",
              "  <thead>\n",
              "    <tr style=\"text-align: right;\">\n",
              "      <th></th>\n",
              "      <th>Time</th>\n",
              "      <th>V1</th>\n",
              "      <th>V2</th>\n",
              "      <th>V3</th>\n",
              "      <th>V4</th>\n",
              "      <th>V5</th>\n",
              "      <th>V6</th>\n",
              "      <th>V7</th>\n",
              "      <th>V8</th>\n",
              "      <th>V9</th>\n",
              "      <th>...</th>\n",
              "      <th>V21</th>\n",
              "      <th>V22</th>\n",
              "      <th>V23</th>\n",
              "      <th>V24</th>\n",
              "      <th>V25</th>\n",
              "      <th>V26</th>\n",
              "      <th>V27</th>\n",
              "      <th>V28</th>\n",
              "      <th>Amount</th>\n",
              "      <th>Class</th>\n",
              "    </tr>\n",
              "  </thead>\n",
              "  <tbody>\n",
              "    <tr>\n",
              "      <th>count</th>\n",
              "      <td>284807.000000</td>\n",
              "      <td>2.848070e+05</td>\n",
              "      <td>2.848070e+05</td>\n",
              "      <td>2.848070e+05</td>\n",
              "      <td>2.848070e+05</td>\n",
              "      <td>2.848070e+05</td>\n",
              "      <td>2.848070e+05</td>\n",
              "      <td>2.848070e+05</td>\n",
              "      <td>2.848070e+05</td>\n",
              "      <td>2.848070e+05</td>\n",
              "      <td>...</td>\n",
              "      <td>2.848070e+05</td>\n",
              "      <td>2.848070e+05</td>\n",
              "      <td>2.848070e+05</td>\n",
              "      <td>2.848070e+05</td>\n",
              "      <td>2.848070e+05</td>\n",
              "      <td>2.848070e+05</td>\n",
              "      <td>2.848070e+05</td>\n",
              "      <td>2.848070e+05</td>\n",
              "      <td>284807.000000</td>\n",
              "      <td>284807.000000</td>\n",
              "    </tr>\n",
              "    <tr>\n",
              "      <th>mean</th>\n",
              "      <td>94813.859575</td>\n",
              "      <td>1.168375e-15</td>\n",
              "      <td>3.416908e-16</td>\n",
              "      <td>-1.379537e-15</td>\n",
              "      <td>2.074095e-15</td>\n",
              "      <td>9.604066e-16</td>\n",
              "      <td>1.487313e-15</td>\n",
              "      <td>-5.556467e-16</td>\n",
              "      <td>1.213481e-16</td>\n",
              "      <td>-2.406331e-15</td>\n",
              "      <td>...</td>\n",
              "      <td>1.654067e-16</td>\n",
              "      <td>-3.568593e-16</td>\n",
              "      <td>2.578648e-16</td>\n",
              "      <td>4.473266e-15</td>\n",
              "      <td>5.340915e-16</td>\n",
              "      <td>1.683437e-15</td>\n",
              "      <td>-3.660091e-16</td>\n",
              "      <td>-1.227390e-16</td>\n",
              "      <td>88.349619</td>\n",
              "      <td>0.001727</td>\n",
              "    </tr>\n",
              "    <tr>\n",
              "      <th>std</th>\n",
              "      <td>47488.145955</td>\n",
              "      <td>1.958696e+00</td>\n",
              "      <td>1.651309e+00</td>\n",
              "      <td>1.516255e+00</td>\n",
              "      <td>1.415869e+00</td>\n",
              "      <td>1.380247e+00</td>\n",
              "      <td>1.332271e+00</td>\n",
              "      <td>1.237094e+00</td>\n",
              "      <td>1.194353e+00</td>\n",
              "      <td>1.098632e+00</td>\n",
              "      <td>...</td>\n",
              "      <td>7.345240e-01</td>\n",
              "      <td>7.257016e-01</td>\n",
              "      <td>6.244603e-01</td>\n",
              "      <td>6.056471e-01</td>\n",
              "      <td>5.212781e-01</td>\n",
              "      <td>4.822270e-01</td>\n",
              "      <td>4.036325e-01</td>\n",
              "      <td>3.300833e-01</td>\n",
              "      <td>250.120109</td>\n",
              "      <td>0.041527</td>\n",
              "    </tr>\n",
              "    <tr>\n",
              "      <th>min</th>\n",
              "      <td>0.000000</td>\n",
              "      <td>-5.640751e+01</td>\n",
              "      <td>-7.271573e+01</td>\n",
              "      <td>-4.832559e+01</td>\n",
              "      <td>-5.683171e+00</td>\n",
              "      <td>-1.137433e+02</td>\n",
              "      <td>-2.616051e+01</td>\n",
              "      <td>-4.355724e+01</td>\n",
              "      <td>-7.321672e+01</td>\n",
              "      <td>-1.343407e+01</td>\n",
              "      <td>...</td>\n",
              "      <td>-3.483038e+01</td>\n",
              "      <td>-1.093314e+01</td>\n",
              "      <td>-4.480774e+01</td>\n",
              "      <td>-2.836627e+00</td>\n",
              "      <td>-1.029540e+01</td>\n",
              "      <td>-2.604551e+00</td>\n",
              "      <td>-2.256568e+01</td>\n",
              "      <td>-1.543008e+01</td>\n",
              "      <td>0.000000</td>\n",
              "      <td>0.000000</td>\n",
              "    </tr>\n",
              "    <tr>\n",
              "      <th>25%</th>\n",
              "      <td>54201.500000</td>\n",
              "      <td>-9.203734e-01</td>\n",
              "      <td>-5.985499e-01</td>\n",
              "      <td>-8.903648e-01</td>\n",
              "      <td>-8.486401e-01</td>\n",
              "      <td>-6.915971e-01</td>\n",
              "      <td>-7.682956e-01</td>\n",
              "      <td>-5.540759e-01</td>\n",
              "      <td>-2.086297e-01</td>\n",
              "      <td>-6.430976e-01</td>\n",
              "      <td>...</td>\n",
              "      <td>-2.283949e-01</td>\n",
              "      <td>-5.423504e-01</td>\n",
              "      <td>-1.618463e-01</td>\n",
              "      <td>-3.545861e-01</td>\n",
              "      <td>-3.171451e-01</td>\n",
              "      <td>-3.269839e-01</td>\n",
              "      <td>-7.083953e-02</td>\n",
              "      <td>-5.295979e-02</td>\n",
              "      <td>5.600000</td>\n",
              "      <td>0.000000</td>\n",
              "    </tr>\n",
              "    <tr>\n",
              "      <th>50%</th>\n",
              "      <td>84692.000000</td>\n",
              "      <td>1.810880e-02</td>\n",
              "      <td>6.548556e-02</td>\n",
              "      <td>1.798463e-01</td>\n",
              "      <td>-1.984653e-02</td>\n",
              "      <td>-5.433583e-02</td>\n",
              "      <td>-2.741871e-01</td>\n",
              "      <td>4.010308e-02</td>\n",
              "      <td>2.235804e-02</td>\n",
              "      <td>-5.142873e-02</td>\n",
              "      <td>...</td>\n",
              "      <td>-2.945017e-02</td>\n",
              "      <td>6.781943e-03</td>\n",
              "      <td>-1.119293e-02</td>\n",
              "      <td>4.097606e-02</td>\n",
              "      <td>1.659350e-02</td>\n",
              "      <td>-5.213911e-02</td>\n",
              "      <td>1.342146e-03</td>\n",
              "      <td>1.124383e-02</td>\n",
              "      <td>22.000000</td>\n",
              "      <td>0.000000</td>\n",
              "    </tr>\n",
              "    <tr>\n",
              "      <th>75%</th>\n",
              "      <td>139320.500000</td>\n",
              "      <td>1.315642e+00</td>\n",
              "      <td>8.037239e-01</td>\n",
              "      <td>1.027196e+00</td>\n",
              "      <td>7.433413e-01</td>\n",
              "      <td>6.119264e-01</td>\n",
              "      <td>3.985649e-01</td>\n",
              "      <td>5.704361e-01</td>\n",
              "      <td>3.273459e-01</td>\n",
              "      <td>5.971390e-01</td>\n",
              "      <td>...</td>\n",
              "      <td>1.863772e-01</td>\n",
              "      <td>5.285536e-01</td>\n",
              "      <td>1.476421e-01</td>\n",
              "      <td>4.395266e-01</td>\n",
              "      <td>3.507156e-01</td>\n",
              "      <td>2.409522e-01</td>\n",
              "      <td>9.104512e-02</td>\n",
              "      <td>7.827995e-02</td>\n",
              "      <td>77.165000</td>\n",
              "      <td>0.000000</td>\n",
              "    </tr>\n",
              "    <tr>\n",
              "      <th>max</th>\n",
              "      <td>172792.000000</td>\n",
              "      <td>2.454930e+00</td>\n",
              "      <td>2.205773e+01</td>\n",
              "      <td>9.382558e+00</td>\n",
              "      <td>1.687534e+01</td>\n",
              "      <td>3.480167e+01</td>\n",
              "      <td>7.330163e+01</td>\n",
              "      <td>1.205895e+02</td>\n",
              "      <td>2.000721e+01</td>\n",
              "      <td>1.559499e+01</td>\n",
              "      <td>...</td>\n",
              "      <td>2.720284e+01</td>\n",
              "      <td>1.050309e+01</td>\n",
              "      <td>2.252841e+01</td>\n",
              "      <td>4.584549e+00</td>\n",
              "      <td>7.519589e+00</td>\n",
              "      <td>3.517346e+00</td>\n",
              "      <td>3.161220e+01</td>\n",
              "      <td>3.384781e+01</td>\n",
              "      <td>25691.160000</td>\n",
              "      <td>1.000000</td>\n",
              "    </tr>\n",
              "  </tbody>\n",
              "</table>\n",
              "<p>8 rows × 31 columns</p>\n",
              "</div>\n",
              "      <button class=\"colab-df-convert\" onclick=\"convertToInteractive('df-b69664d5-cfd7-458f-a483-1c9be2dd4af9')\"\n",
              "              title=\"Convert this dataframe to an interactive table.\"\n",
              "              style=\"display:none;\">\n",
              "        \n",
              "  <svg xmlns=\"http://www.w3.org/2000/svg\" height=\"24px\"viewBox=\"0 0 24 24\"\n",
              "       width=\"24px\">\n",
              "    <path d=\"M0 0h24v24H0V0z\" fill=\"none\"/>\n",
              "    <path d=\"M18.56 5.44l.94 2.06.94-2.06 2.06-.94-2.06-.94-.94-2.06-.94 2.06-2.06.94zm-11 1L8.5 8.5l.94-2.06 2.06-.94-2.06-.94L8.5 2.5l-.94 2.06-2.06.94zm10 10l.94 2.06.94-2.06 2.06-.94-2.06-.94-.94-2.06-.94 2.06-2.06.94z\"/><path d=\"M17.41 7.96l-1.37-1.37c-.4-.4-.92-.59-1.43-.59-.52 0-1.04.2-1.43.59L10.3 9.45l-7.72 7.72c-.78.78-.78 2.05 0 2.83L4 21.41c.39.39.9.59 1.41.59.51 0 1.02-.2 1.41-.59l7.78-7.78 2.81-2.81c.8-.78.8-2.07 0-2.86zM5.41 20L4 18.59l7.72-7.72 1.47 1.35L5.41 20z\"/>\n",
              "  </svg>\n",
              "      </button>\n",
              "      \n",
              "  <style>\n",
              "    .colab-df-container {\n",
              "      display:flex;\n",
              "      flex-wrap:wrap;\n",
              "      gap: 12px;\n",
              "    }\n",
              "\n",
              "    .colab-df-convert {\n",
              "      background-color: #E8F0FE;\n",
              "      border: none;\n",
              "      border-radius: 50%;\n",
              "      cursor: pointer;\n",
              "      display: none;\n",
              "      fill: #1967D2;\n",
              "      height: 32px;\n",
              "      padding: 0 0 0 0;\n",
              "      width: 32px;\n",
              "    }\n",
              "\n",
              "    .colab-df-convert:hover {\n",
              "      background-color: #E2EBFA;\n",
              "      box-shadow: 0px 1px 2px rgba(60, 64, 67, 0.3), 0px 1px 3px 1px rgba(60, 64, 67, 0.15);\n",
              "      fill: #174EA6;\n",
              "    }\n",
              "\n",
              "    [theme=dark] .colab-df-convert {\n",
              "      background-color: #3B4455;\n",
              "      fill: #D2E3FC;\n",
              "    }\n",
              "\n",
              "    [theme=dark] .colab-df-convert:hover {\n",
              "      background-color: #434B5C;\n",
              "      box-shadow: 0px 1px 3px 1px rgba(0, 0, 0, 0.15);\n",
              "      filter: drop-shadow(0px 1px 2px rgba(0, 0, 0, 0.3));\n",
              "      fill: #FFFFFF;\n",
              "    }\n",
              "  </style>\n",
              "\n",
              "      <script>\n",
              "        const buttonEl =\n",
              "          document.querySelector('#df-b69664d5-cfd7-458f-a483-1c9be2dd4af9 button.colab-df-convert');\n",
              "        buttonEl.style.display =\n",
              "          google.colab.kernel.accessAllowed ? 'block' : 'none';\n",
              "\n",
              "        async function convertToInteractive(key) {\n",
              "          const element = document.querySelector('#df-b69664d5-cfd7-458f-a483-1c9be2dd4af9');\n",
              "          const dataTable =\n",
              "            await google.colab.kernel.invokeFunction('convertToInteractive',\n",
              "                                                     [key], {});\n",
              "          if (!dataTable) return;\n",
              "\n",
              "          const docLinkHtml = 'Like what you see? Visit the ' +\n",
              "            '<a target=\"_blank\" href=https://colab.research.google.com/notebooks/data_table.ipynb>data table notebook</a>'\n",
              "            + ' to learn more about interactive tables.';\n",
              "          element.innerHTML = '';\n",
              "          dataTable['output_type'] = 'display_data';\n",
              "          await google.colab.output.renderOutput(dataTable, element);\n",
              "          const docLink = document.createElement('div');\n",
              "          docLink.innerHTML = docLinkHtml;\n",
              "          element.appendChild(docLink);\n",
              "        }\n",
              "      </script>\n",
              "    </div>\n",
              "  </div>\n",
              "  "
            ]
          },
          "metadata": {},
          "execution_count": 3
        }
      ]
    },
    {
      "cell_type": "code",
      "source": [
        "df.shape"
      ],
      "metadata": {
        "colab": {
          "base_uri": "https://localhost:8080/"
        },
        "id": "rvmGWlIZxLDm",
        "outputId": "d7fd7f34-61c2-4b51-a81f-106d1b435408"
      },
      "execution_count": null,
      "outputs": [
        {
          "output_type": "execute_result",
          "data": {
            "text/plain": [
              "(284807, 31)"
            ]
          },
          "metadata": {},
          "execution_count": 4
        }
      ]
    },
    {
      "cell_type": "code",
      "source": [
        "print((\"Distribution of fraudulent points: {:.2f}%\".format(len(df[df['Class']==1])/len(df)*100)))\n",
        "sns.countplot(df['Class'])\n",
        "plt.title('Class Distribution')\n",
        "plt.xticks(range(2),['Normal','Fraud'])\n",
        "plt.ylim(0, 5000)\n",
        "plt.show()"
      ],
      "metadata": {
        "colab": {
          "base_uri": "https://localhost:8080/",
          "height": 367
        },
        "id": "gsAYraDXN4on",
        "outputId": "5bda9e2b-7294-4f2d-95ac-64a185c5f55c"
      },
      "execution_count": null,
      "outputs": [
        {
          "output_type": "stream",
          "name": "stdout",
          "text": [
            "Distribution of fraudulent points: 0.17%\n"
          ]
        },
        {
          "output_type": "stream",
          "name": "stderr",
          "text": [
            "/usr/local/lib/python3.7/dist-packages/seaborn/_decorators.py:43: FutureWarning: Pass the following variable as a keyword arg: x. From version 0.12, the only valid positional argument will be `data`, and passing other arguments without an explicit keyword will result in an error or misinterpretation.\n",
            "  FutureWarning\n"
          ]
        },
        {
          "output_type": "display_data",
          "data": {
            "text/plain": [
              "<Figure size 432x288 with 1 Axes>"
            ],
            "image/png": "[encoded data removed]"
          },
          "metadata": {
            "needs_background": "light"
          }
        }
      ]
    },
    {
      "cell_type": "code",
      "source": [
        "normal = df[df['Class']==0]\n",
        "fraud = df[df['Class']==1]\n",
        "print(\"Normal datapoints: \", normal.shape[0])\n",
        "print(\"Fraud datapoints: \", fraud.shape[0])"
      ],
      "metadata": {
        "colab": {
          "base_uri": "https://localhost:8080/"
        },
        "id": "tEplXwVUN4rc",
        "outputId": "bb115f5e-afa3-4529-f857-966be4b8ba29"
      },
      "execution_count": null,
      "outputs": [
        {
          "output_type": "stream",
          "name": "stdout",
          "text": [
            "Normal datapoints:  284315\n",
            "Fraud datapoints:  492\n"
          ]
        }
      ]
    },
    {
      "cell_type": "code",
      "source": [
        "normal['Amount'].describe()"
      ],
      "metadata": {
        "colab": {
          "base_uri": "https://localhost:8080/"
        },
        "id": "_5Z7rn1fN4vO",
        "outputId": "95a0fd64-bda1-45d8-802e-a0cec9575a69"
      },
      "execution_count": null,
      "outputs": [
        {
          "output_type": "execute_result",
          "data": {
            "text/plain": [
              "count    284315.000000\n",
              "mean         88.291022\n",
              "std         250.105092\n",
              "min           0.000000\n",
              "25%           5.650000\n",
              "50%          22.000000\n",
              "75%          77.050000\n",
              "max       25691.160000\n",
              "Name: Amount, dtype: float64"
            ]
          },
          "metadata": {},
          "execution_count": 8
        }
      ]
    },
    {
      "cell_type": "code",
      "source": [
        "fraud['Amount'].describe()"
      ],
      "metadata": {
        "colab": {
          "base_uri": "https://localhost:8080/"
        },
        "id": "GAvx1CEnN4xZ",
        "outputId": "8a42dc90-1e85-465b-c31a-ef6100e4c521"
      },
      "execution_count": null,
      "outputs": [
        {
          "output_type": "execute_result",
          "data": {
            "text/plain": [
              "count     492.000000\n",
              "mean      122.211321\n",
              "std       256.683288\n",
              "min         0.000000\n",
              "25%         1.000000\n",
              "50%         9.250000\n",
              "75%       105.890000\n",
              "max      2125.870000\n",
              "Name: Amount, dtype: float64"
            ]
          },
          "metadata": {},
          "execution_count": 9
        }
      ]
    },
    {
      "cell_type": "code",
      "source": [
        "f, (ax1, ax2) = plt.subplots(2, 1, sharex=True, figsize = (10,10) )\n",
        "f.suptitle('Amount per transaction by class')\n",
        "\n",
        "bins = 10\n",
        "\n",
        "ax1.hist(fraud.Amount, bins = bins)\n",
        "ax1.set_title('Fraud')\n",
        "\n",
        "ax2.hist(normal.Amount, bins = bins)\n",
        "ax2.set_title('Normal')\n",
        "\n",
        "ax1.grid()\n",
        "ax2.grid()\n",
        "plt.xlabel('Amount ($)')\n",
        "plt.ylabel('Number of Transactions')\n",
        "plt.xlim((0, 20000))\n",
        "plt.yscale('log')\n",
        "plt.show();"
      ],
      "metadata": {
        "colab": {
          "base_uri": "https://localhost:8080/",
          "height": 677
        },
        "id": "Wq4OlG5TN4zt",
        "outputId": "e2d63bbf-9d05-4916-ecf5-f0264ada53f8"
      },
      "execution_count": null,
      "outputs": [
        {
          "output_type": "display_data",
          "data": {
            "text/plain": [
              "<Figure size 720x720 with 2 Axes>"
            ],
            "image/png": "[encoded data removed]"
          },
          "metadata": {
            "needs_background": "light"
          }
        }
      ]
    },
    {
      "cell_type": "code",
      "source": [
        "f, (ax1, ax2) = plt.subplots(2, 1, sharex=True, figsize=(10,10))\n",
        "f.suptitle('Time of transaction vs Amount by class')\n",
        "\n",
        "ax1.scatter(fraud.Time, fraud.Amount, marker='.')\n",
        "ax1.set_title('Fraud')\n",
        "ax1.grid()\n",
        "ax2.scatter(normal.Time, normal.Amount, marker='.')\n",
        "ax2.set_title('Normal')\n",
        "ax2.grid()\n",
        "plt.xlabel('Time (in Seconds)')\n",
        "plt.ylabel('Amount')\n",
        "plt.show()"
      ],
      "metadata": {
        "colab": {
          "base_uri": "https://localhost:8080/",
          "height": 677
        },
        "id": "ewM8wSpAN416",
        "outputId": "2fe21eba-8138-40b2-9d49-b8c4404aebbb"
      },
      "execution_count": null,
      "outputs": [
        {
          "output_type": "display_data",
          "data": {
            "text/plain": [
              "<Figure size 720x720 with 2 Axes>"
            ],
            "image/png": "[encoded data removed]"
          },
          "metadata": {
            "needs_background": "light"
          }
        }
      ]
    },
    {
      "cell_type": "code",
      "source": [
        "data = df.drop(['Time'], axis =1)\n",
        "X_train, X_test = train_test_split(data, test_size=0.2, random_state=42)\n",
        "X_train = X_train[X_train.Class == 0]\n",
        "X_train = X_train.drop(['Class'], axis=1)\n",
        "y_test = X_test['Class']\n",
        "X_test = X_test.drop(['Class'], axis=1)\n",
        "X_train = X_train\n",
        "X_test = X_test\n",
        "print(X_train.shape)\n",
        "\n",
        "print(X_test.shape)\n",
        "print(y_test.shape)"
      ],
      "metadata": {
        "colab": {
          "base_uri": "https://localhost:8080/"
        },
        "id": "zH1T3FKLN45H",
        "outputId": "14533eb6-7032-472f-a54a-d4955a894fe7"
      },
      "execution_count": null,
      "outputs": [
        {
          "output_type": "stream",
          "name": "stdout",
          "text": [
            "(227451, 29)\n",
            "(56962, 29)\n",
            "(56962,)\n"
          ]
        }
      ]
    },
    {
      "cell_type": "code",
      "source": [
        "scaler = StandardScaler().fit(X_train.Amount.values.reshape(-1,1))\n",
        "X_train['Amount'] = scaler.transform(X_train.Amount.values.reshape(-1,1))\n",
        "X_test['Amount'] = scaler.transform(X_test.Amount.values.reshape(-1,1))\n",
        "X_train.shape"
      ],
      "metadata": {
        "colab": {
          "base_uri": "https://localhost:8080/"
        },
        "id": "WdYfBHsYN466",
        "outputId": "4d05c428-b863-4fab-b815-2eac347fb762"
      },
      "execution_count": null,
      "outputs": [
        {
          "output_type": "execute_result",
          "data": {
            "text/plain": [
              "(227451, 29)"
            ]
          },
          "metadata": {},
          "execution_count": 13
        }
      ]
    },
    {
      "cell_type": "code",
      "source": [
        "from keras.layers import Input, Dense\n",
        "from keras import regularizers\n",
        "from keras.models import Model, load_model\n",
        "from keras.callbacks import ModelCheckpoint, TensorBoard"
      ],
      "metadata": {
        "id": "LsiBoGkDN49t"
      },
      "execution_count": null,
      "outputs": []
    },
    {
      "cell_type": "code",
      "source": [
        "input_dim = X_train.shape[1]\n",
        "encoding_dim = 14\n",
        "input_layer = Input(shape=(input_dim,))\n",
        "encoder = Dense(encoding_dim, activation=\"tanh\", \n",
        "                activity_regularizer=regularizers.l1(10e-5))(input_layer)\n",
        "encoder = Dense(int(encoding_dim / 2), activation=\"relu\")(encoder)\n",
        "\n",
        "decoder = Dense(int(encoding_dim / 2), activation='tanh')(encoder)\n",
        "decoder = Dense(input_dim, activation='relu')(decoder)\n",
        "autoencoder = Model(inputs=input_layer, outputs=decoder)\n",
        "X_train.shape"
      ],
      "metadata": {
        "colab": {
          "base_uri": "https://localhost:8080/"
        },
        "id": "-ZL-tzeOOO1c",
        "outputId": "a6f1bbce-5f95-4482-d098-1f0f12abc0a5"
      },
      "execution_count": null,
      "outputs": [
        {
          "output_type": "execute_result",
          "data": {
            "text/plain": [
              "(227451, 29)"
            ]
          },
          "metadata": {},
          "execution_count": 15
        }
      ]
    },
    {
      "cell_type": "code",
      "source": [
        "nb_epoch = 100\n",
        "batch_size = 32\n",
        "\n",
        "autoencoder.compile(optimizer='adam', \n",
        "                    loss='mean_squared_error', \n",
        "                    )\n",
        "\n",
        "checkpointer = ModelCheckpoint(filepath=\"model.h5\",\n",
        "                               verbose=0,\n",
        "                               save_best_only=True)\n",
        "tensorboard = TensorBoard(log_dir='./logs',\n",
        "                          histogram_freq=0,\n",
        "                          write_graph=True,\n",
        "                          write_images=True)\n",
        "history = autoencoder.fit(X_train, X_train,\n",
        "                    epochs=nb_epoch,\n",
        "                    batch_size=batch_size,\n",
        "                    shuffle=True,\n",
        "                    validation_split=0.3,\n",
        "                    verbose=1,\n",
        "                    callbacks=[checkpointer, tensorboard]).history"
      ],
      "metadata": {
        "colab": {
          "base_uri": "https://localhost:8080/"
        },
        "id": "14maUik-OO4D",
        "outputId": "e668183a-50d7-4b32-a1e7-f299476dbecf"
      },
      "execution_count": null,
      "outputs": [
        {
          "output_type": "stream",
          "name": "stdout",
          "text": [
            "Epoch 1/100\n",
            "4976/4976 [==============================] - 28s 5ms/step - loss: 0.8089 - val_loss: 0.8073\n",
            "Epoch 2/100\n",
            "4976/4976 [==============================] - 23s 5ms/step - loss: 0.7382 - val_loss: 0.7821\n",
            "Epoch 3/100\n",
            "4976/4976 [==============================] - 21s 4ms/step - loss: 0.7238 - val_loss: 0.7728\n",
            "Epoch 4/100\n",
            "4976/4976 [==============================] - 21s 4ms/step - loss: 0.7127 - val_loss: 0.7596\n",
            "Epoch 5/100\n",
            "4976/4976 [==============================] - 24s 5ms/step - loss: 0.7060 - val_loss: 0.7556\n",
            "Epoch 6/100\n",
            "4976/4976 [==============================] - 20s 4ms/step - loss: 0.7031 - val_loss: 0.7521\n",
            "Epoch 7/100\n",
            "4976/4976 [==============================] - 18s 4ms/step - loss: 0.6997 - val_loss: 0.7480\n",
            "Epoch 8/100\n",
            "4976/4976 [==============================] - 18s 4ms/step - loss: 0.6937 - val_loss: 0.7442\n",
            "Epoch 9/100\n",
            "4976/4976 [==============================] - 18s 4ms/step - loss: 0.6907 - val_loss: 0.7412\n",
            "Epoch 10/100\n",
            "4976/4976 [==============================] - 18s 4ms/step - loss: 0.6890 - val_loss: 0.7390\n",
            "Epoch 11/100\n",
            "4976/4976 [==============================] - 21s 4ms/step - loss: 0.6882 - val_loss: 0.7390\n",
            "Epoch 12/100\n",
            "4976/4976 [==============================] - 18s 4ms/step - loss: 0.6870 - val_loss: 0.7361\n",
            "Epoch 13/100\n",
            "4976/4976 [==============================] - 18s 4ms/step - loss: 0.6864 - val_loss: 0.7355\n",
            "Epoch 14/100\n",
            "4976/4976 [==============================] - 18s 4ms/step - loss: 0.6858 - val_loss: 0.7366\n",
            "Epoch 15/100\n",
            "4976/4976 [==============================] - 19s 4ms/step - loss: 0.6849 - val_loss: 0.7341\n",
            "Epoch 16/100\n",
            "4976/4976 [==============================] - 19s 4ms/step - loss: 0.6840 - val_loss: 0.7342\n",
            "Epoch 17/100\n",
            "4976/4976 [==============================] - 18s 4ms/step - loss: 0.6834 - val_loss: 0.7317\n",
            "Epoch 18/100\n",
            "4976/4976 [==============================] - 18s 4ms/step - loss: 0.6829 - val_loss: 0.7317\n",
            "Epoch 19/100\n",
            "4976/4976 [==============================] - 19s 4ms/step - loss: 0.6823 - val_loss: 0.7315\n",
            "Epoch 20/100\n",
            "4976/4976 [==============================] - 19s 4ms/step - loss: 0.6822 - val_loss: 0.7308\n",
            "Epoch 21/100\n",
            "4976/4976 [==============================] - 19s 4ms/step - loss: 0.6821 - val_loss: 0.7298\n",
            "Epoch 22/100\n",
            "4976/4976 [==============================] - 19s 4ms/step - loss: 0.6816 - val_loss: 0.7297\n",
            "Epoch 23/100\n",
            "4976/4976 [==============================] - 18s 4ms/step - loss: 0.6815 - val_loss: 0.7296\n",
            "Epoch 24/100\n",
            "4976/4976 [==============================] - 19s 4ms/step - loss: 0.6810 - val_loss: 0.7289\n",
            "Epoch 25/100\n",
            "4976/4976 [==============================] - 19s 4ms/step - loss: 0.6807 - val_loss: 0.7287\n",
            "Epoch 26/100\n",
            "4976/4976 [==============================] - 19s 4ms/step - loss: 0.6809 - val_loss: 0.7283\n",
            "Epoch 27/100\n",
            "4976/4976 [==============================] - 19s 4ms/step - loss: 0.6804 - val_loss: 0.7294\n",
            "Epoch 28/100\n",
            "4976/4976 [==============================] - 17s 3ms/step - loss: 0.6805 - val_loss: 0.7290\n",
            "Epoch 29/100\n",
            "4976/4976 [==============================] - 17s 3ms/step - loss: 0.6803 - val_loss: 0.7298\n",
            "Epoch 30/100\n",
            "4976/4976 [==============================] - 18s 4ms/step - loss: 0.6800 - val_loss: 0.7289\n",
            "Epoch 31/100\n",
            "4976/4976 [==============================] - 19s 4ms/step - loss: 0.6800 - val_loss: 0.7268\n",
            "Epoch 32/100\n",
            "4976/4976 [==============================] - 19s 4ms/step - loss: 0.6798 - val_loss: 0.7275\n",
            "Epoch 33/100\n",
            "4976/4976 [==============================] - 17s 3ms/step - loss: 0.6796 - val_loss: 0.7281\n",
            "Epoch 34/100\n",
            "4976/4976 [==============================] - 17s 3ms/step - loss: 0.6799 - val_loss: 0.7281\n",
            "Epoch 35/100\n",
            "4976/4976 [==============================] - 18s 4ms/step - loss: 0.6794 - val_loss: 0.7280\n",
            "Epoch 36/100\n",
            "4976/4976 [==============================] - 18s 4ms/step - loss: 0.6796 - val_loss: 0.7262\n",
            "Epoch 37/100\n",
            "4976/4976 [==============================] - 19s 4ms/step - loss: 0.6795 - val_loss: 0.7270\n",
            "Epoch 38/100\n",
            "4976/4976 [==============================] - 18s 4ms/step - loss: 0.6792 - val_loss: 0.7259\n",
            "Epoch 39/100\n",
            "4976/4976 [==============================] - 19s 4ms/step - loss: 0.6792 - val_loss: 0.7286\n",
            "Epoch 40/100\n",
            "4976/4976 [==============================] - 18s 4ms/step - loss: 0.6792 - val_loss: 0.7259\n",
            "Epoch 41/100\n",
            "4976/4976 [==============================] - 17s 3ms/step - loss: 0.6789 - val_loss: 0.7284\n",
            "Epoch 42/100\n",
            "4976/4976 [==============================] - 17s 3ms/step - loss: 0.6787 - val_loss: 0.7268\n",
            "Epoch 43/100\n",
            "4976/4976 [==============================] - 18s 4ms/step - loss: 0.6788 - val_loss: 0.7281\n",
            "Epoch 44/100\n",
            "4976/4976 [==============================] - 19s 4ms/step - loss: 0.6788 - val_loss: 0.7244\n",
            "Epoch 45/100\n",
            "4976/4976 [==============================] - 17s 3ms/step - loss: 0.6791 - val_loss: 0.7253\n",
            "Epoch 46/100\n",
            "4976/4976 [==============================] - 19s 4ms/step - loss: 0.6788 - val_loss: 0.7252\n",
            "Epoch 47/100\n",
            "4976/4976 [==============================] - 17s 3ms/step - loss: 0.6786 - val_loss: 0.7261\n",
            "Epoch 48/100\n",
            "4976/4976 [==============================] - 19s 4ms/step - loss: 0.6786 - val_loss: 0.7258\n",
            "Epoch 49/100\n",
            "4976/4976 [==============================] - 18s 4ms/step - loss: 0.6788 - val_loss: 0.7263\n",
            "Epoch 50/100\n",
            "4976/4976 [==============================] - 17s 3ms/step - loss: 0.6787 - val_loss: 0.7246\n",
            "Epoch 51/100\n",
            "4976/4976 [==============================] - 17s 4ms/step - loss: 0.6785 - val_loss: 0.7247\n",
            "Epoch 52/100\n",
            "4976/4976 [==============================] - 18s 4ms/step - loss: 0.6785 - val_loss: 0.7246\n",
            "Epoch 53/100\n",
            "4976/4976 [==============================] - 18s 4ms/step - loss: 0.6785 - val_loss: 0.7256\n",
            "Epoch 54/100\n",
            "4976/4976 [==============================] - 19s 4ms/step - loss: 0.6784 - val_loss: 0.7252\n",
            "Epoch 55/100\n",
            "4976/4976 [==============================] - 17s 3ms/step - loss: 0.6784 - val_loss: 0.7259\n",
            "Epoch 56/100\n",
            "4976/4976 [==============================] - 17s 3ms/step - loss: 0.6785 - val_loss: 0.7247\n",
            "Epoch 57/100\n",
            "4976/4976 [==============================] - 19s 4ms/step - loss: 0.6785 - val_loss: 0.7283\n",
            "Epoch 58/100\n",
            "4976/4976 [==============================] - 19s 4ms/step - loss: 0.6782 - val_loss: 0.7260\n",
            "Epoch 59/100\n",
            "4976/4976 [==============================] - 17s 3ms/step - loss: 0.6785 - val_loss: 0.7251\n",
            "Epoch 60/100\n",
            "4976/4976 [==============================] - 19s 4ms/step - loss: 0.6783 - val_loss: 0.7252\n",
            "Epoch 61/100\n",
            "4976/4976 [==============================] - 19s 4ms/step - loss: 0.6784 - val_loss: 0.7251\n",
            "Epoch 62/100\n",
            "4976/4976 [==============================] - 19s 4ms/step - loss: 0.6782 - val_loss: 0.7257\n",
            "Epoch 63/100\n",
            "4976/4976 [==============================] - 17s 3ms/step - loss: 0.6781 - val_loss: 0.7246\n",
            "Epoch 64/100\n",
            "4976/4976 [==============================] - 17s 3ms/step - loss: 0.6782 - val_loss: 0.7243\n",
            "Epoch 65/100\n",
            "4976/4976 [==============================] - 19s 4ms/step - loss: 0.6780 - val_loss: 0.7245\n",
            "Epoch 66/100\n",
            "4976/4976 [==============================] - 19s 4ms/step - loss: 0.6783 - val_loss: 0.7242\n",
            "Epoch 67/100\n",
            "4976/4976 [==============================] - 17s 3ms/step - loss: 0.6782 - val_loss: 0.7268\n",
            "Epoch 68/100\n",
            "4976/4976 [==============================] - 19s 4ms/step - loss: 0.6781 - val_loss: 0.7279\n",
            "Epoch 69/100\n",
            "4976/4976 [==============================] - 19s 4ms/step - loss: 0.6780 - val_loss: 0.7243\n",
            "Epoch 70/100\n",
            "4976/4976 [==============================] - 17s 3ms/step - loss: 0.6779 - val_loss: 0.7247\n",
            "Epoch 71/100\n",
            "4976/4976 [==============================] - 19s 4ms/step - loss: 0.6782 - val_loss: 0.7237\n",
            "Epoch 72/100\n",
            "4976/4976 [==============================] - 19s 4ms/step - loss: 0.6778 - val_loss: 0.7242\n",
            "Epoch 73/100\n",
            "4976/4976 [==============================] - 17s 3ms/step - loss: 0.6778 - val_loss: 0.7242\n",
            "Epoch 74/100\n",
            "4976/4976 [==============================] - 20s 4ms/step - loss: 0.6779 - val_loss: 0.7247\n",
            "Epoch 75/100\n",
            "4976/4976 [==============================] - 19s 4ms/step - loss: 0.6778 - val_loss: 0.7264\n",
            "Epoch 76/100\n",
            "4976/4976 [==============================] - 17s 4ms/step - loss: 0.6783 - val_loss: 0.7260\n",
            "Epoch 77/100\n",
            "4976/4976 [==============================] - 18s 4ms/step - loss: 0.6779 - val_loss: 0.7274\n",
            "Epoch 78/100\n",
            "4976/4976 [==============================] - 18s 4ms/step - loss: 0.6780 - val_loss: 0.7238\n",
            "Epoch 79/100\n",
            "4976/4976 [==============================] - 17s 3ms/step - loss: 0.6777 - val_loss: 0.7238\n",
            "Epoch 80/100\n",
            "4976/4976 [==============================] - 19s 4ms/step - loss: 0.6779 - val_loss: 0.7269\n",
            "Epoch 81/100\n",
            "4976/4976 [==============================] - 17s 3ms/step - loss: 0.6777 - val_loss: 0.7232\n",
            "Epoch 82/100\n",
            "4976/4976 [==============================] - 19s 4ms/step - loss: 0.6778 - val_loss: 0.7234\n",
            "Epoch 83/100\n",
            "4976/4976 [==============================] - 17s 3ms/step - loss: 0.6781 - val_loss: 0.7287\n",
            "Epoch 84/100\n",
            "4976/4976 [==============================] - 19s 4ms/step - loss: 0.6776 - val_loss: 0.7238\n",
            "Epoch 85/100\n",
            "4976/4976 [==============================] - 19s 4ms/step - loss: 0.6780 - val_loss: 0.7234\n",
            "Epoch 86/100\n",
            "4976/4976 [==============================] - 18s 4ms/step - loss: 0.6776 - val_loss: 0.7242\n",
            "Epoch 87/100\n",
            "4976/4976 [==============================] - 19s 4ms/step - loss: 0.6777 - val_loss: 0.7259\n",
            "Epoch 88/100\n",
            "4976/4976 [==============================] - 19s 4ms/step - loss: 0.6778 - val_loss: 0.7232\n",
            "Epoch 89/100\n",
            "4976/4976 [==============================] - 19s 4ms/step - loss: 0.6777 - val_loss: 0.7238\n",
            "Epoch 90/100\n",
            "4976/4976 [==============================] - 20s 4ms/step - loss: 0.6778 - val_loss: 0.7247\n",
            "Epoch 91/100\n",
            "4976/4976 [==============================] - 17s 3ms/step - loss: 0.6778 - val_loss: 0.7267\n",
            "Epoch 92/100\n",
            "4976/4976 [==============================] - 17s 3ms/step - loss: 0.6777 - val_loss: 0.7250\n",
            "Epoch 93/100\n",
            "4976/4976 [==============================] - 17s 3ms/step - loss: 0.6776 - val_loss: 0.7250\n",
            "Epoch 94/100\n",
            "4976/4976 [==============================] - 19s 4ms/step - loss: 0.6777 - val_loss: 0.7239\n",
            "Epoch 95/100\n",
            "4976/4976 [==============================] - 19s 4ms/step - loss: 0.6774 - val_loss: 0.7247\n",
            "Epoch 96/100\n",
            "4976/4976 [==============================] - 17s 3ms/step - loss: 0.6776 - val_loss: 0.7252\n",
            "Epoch 97/100\n",
            "4976/4976 [==============================] - 17s 3ms/step - loss: 0.6775 - val_loss: 0.7236\n",
            "Epoch 98/100\n",
            "4976/4976 [==============================] - 17s 3ms/step - loss: 0.6778 - val_loss: 0.7231\n",
            "Epoch 99/100\n",
            "4976/4976 [==============================] - 20s 4ms/step - loss: 0.6773 - val_loss: 0.7245\n",
            "Epoch 100/100\n",
            "4976/4976 [==============================] - 17s 3ms/step - loss: 0.6776 - val_loss: 0.7231\n"
          ]
        }
      ]
    },
    {
      "cell_type": "code",
      "source": [
        "plt.figure(figsize = (10,5))\n",
        "plt.plot(history['loss'], label = 'Training Loss')\n",
        "plt.plot(history['val_loss'], label = 'CV Loss')\n",
        "plt.title(\"Model Loss\")\n",
        "plt.xlabel('Epochs')\n",
        "plt.ylabel('Loss')\n",
        "plt.grid()\n",
        "plt.legend()\n",
        "plt.show()"
      ],
      "metadata": {
        "colab": {
          "base_uri": "https://localhost:8080/",
          "height": 350
        },
        "id": "ZxbysGrjOO6r",
        "outputId": "e0bd74e8-7305-4e21-a416-6166082c29da"
      },
      "execution_count": null,
      "outputs": [
        {
          "output_type": "display_data",
          "data": {
            "text/plain": [
              "<Figure size 720x360 with 1 Axes>"
            ],
            "image/png": "[encoded data removed]"
          },
          "metadata": {
            "needs_background": "light"
          }
        }
      ]
    },
    {
      "cell_type": "code",
      "source": [
        "autoencoder = load_model('model.h5')"
      ],
      "metadata": {
        "id": "WzaDs7I7OO9I"
      },
      "execution_count": null,
      "outputs": []
    },
    {
      "cell_type": "code",
      "source": [
        "predictions = autoencoder.predict(X_test)\n",
        "predictions.shape"
      ],
      "metadata": {
        "colab": {
          "base_uri": "https://localhost:8080/"
        },
        "id": "uAMsfX6mOO_0",
        "outputId": "cf6540b2-9126-4e97-a909-5216e85f7dbd"
      },
      "execution_count": null,
      "outputs": [
        {
          "output_type": "stream",
          "name": "stdout",
          "text": [
            "1781/1781 [==============================] - 3s 1ms/step\n"
          ]
        },
        {
          "output_type": "execute_result",
          "data": {
            "text/plain": [
              "(56962, 29)"
            ]
          },
          "metadata": {},
          "execution_count": 19
        }
      ]
    },
    {
      "cell_type": "code",
      "source": [
        "mse = np.mean(np.power(X_test - predictions, 2), axis=1)\n",
        "error_df = pd.DataFrame({'reconstruction_error': mse, 'true_class':y_test})\n",
        "error_df.groupby(['true_class']).describe()"
      ],
      "metadata": {
        "colab": {
          "base_uri": "https://localhost:8080/",
          "height": 175
        },
        "id": "rmDbQGoOOPCP",
        "outputId": "20bf43a6-2047-4347-8b55-80a66e00d549"
      },
      "execution_count": null,
      "outputs": [
        {
          "output_type": "execute_result",
          "data": {
            "text/plain": [
              "           reconstruction_error                                            \\\n",
              "                          count       mean        std       min       25%   \n",
              "true_class                                                                  \n",
              "0                       56864.0   0.670583   2.525921  0.044573  0.238506   \n",
              "1                          98.0  29.749247  45.270304  0.156305  3.578943   \n",
              "\n",
              "                                             \n",
              "                 50%        75%         max  \n",
              "true_class                                   \n",
              "0           0.377987   0.604310  157.910243  \n",
              "1           9.170512  47.451218  261.725971  "
            ],
            "text/html": [
              "\n",
              "  <div id=\"df-b0de7985-027a-41ee-b54f-7fec2715237a\">\n",
              "    <div class=\"colab-df-container\">\n",
              "      <div>\n",
              "<style scoped>\n",
              "    .dataframe tbody tr th:only-of-type {\n",
              "        vertical-align: middle;\n",
              "    }\n",
              "\n",
              "    .dataframe tbody tr th {\n",
              "        vertical-align: top;\n",
              "    }\n",
              "\n",
              "    .dataframe thead tr th {\n",
              "        text-align: left;\n",
              "    }\n",
              "\n",
              "    .dataframe thead tr:last-of-type th {\n",
              "        text-align: right;\n",
              "    }\n",
              "</style>\n",
              "<table border=\"1\" class=\"dataframe\">\n",
              "  <thead>\n",
              "    <tr>\n",
              "      <th></th>\n",
              "      <th colspan=\"8\" halign=\"left\">reconstruction_error</th>\n",
              "    </tr>\n",
              "    <tr>\n",
              "      <th></th>\n",
              "      <th>count</th>\n",
              "      <th>mean</th>\n",
              "      <th>std</th>\n",
              "      <th>min</th>\n",
              "      <th>25%</th>\n",
              "      <th>50%</th>\n",
              "      <th>75%</th>\n",
              "      <th>max</th>\n",
              "    </tr>\n",
              "    <tr>\n",
              "      <th>true_class</th>\n",
              "      <th></th>\n",
              "      <th></th>\n",
              "      <th></th>\n",
              "      <th></th>\n",
              "      <th></th>\n",
              "      <th></th>\n",
              "      <th></th>\n",
              "      <th></th>\n",
              "    </tr>\n",
              "  </thead>\n",
              "  <tbody>\n",
              "    <tr>\n",
              "      <th>0</th>\n",
              "      <td>56864.0</td>\n",
              "      <td>0.670583</td>\n",
              "      <td>2.525921</td>\n",
              "      <td>0.044573</td>\n",
              "      <td>0.238506</td>\n",
              "      <td>0.377987</td>\n",
              "      <td>0.604310</td>\n",
              "      <td>157.910243</td>\n",
              "    </tr>\n",
              "    <tr>\n",
              "      <th>1</th>\n",
              "      <td>98.0</td>\n",
              "      <td>29.749247</td>\n",
              "      <td>45.270304</td>\n",
              "      <td>0.156305</td>\n",
              "      <td>3.578943</td>\n",
              "      <td>9.170512</td>\n",
              "      <td>47.451218</td>\n",
              "      <td>261.725971</td>\n",
              "    </tr>\n",
              "  </tbody>\n",
              "</table>\n",
              "</div>\n",
              "      <button class=\"colab-df-convert\" onclick=\"convertToInteractive('df-b0de7985-027a-41ee-b54f-7fec2715237a')\"\n",
              "              title=\"Convert this dataframe to an interactive table.\"\n",
              "              style=\"display:none;\">\n",
              "        \n",
              "  <svg xmlns=\"http://www.w3.org/2000/svg\" height=\"24px\"viewBox=\"0 0 24 24\"\n",
              "       width=\"24px\">\n",
              "    <path d=\"M0 0h24v24H0V0z\" fill=\"none\"/>\n",
              "    <path d=\"M18.56 5.44l.94 2.06.94-2.06 2.06-.94-2.06-.94-.94-2.06-.94 2.06-2.06.94zm-11 1L8.5 8.5l.94-2.06 2.06-.94-2.06-.94L8.5 2.5l-.94 2.06-2.06.94zm10 10l.94 2.06.94-2.06 2.06-.94-2.06-.94-.94-2.06-.94 2.06-2.06.94z\"/><path d=\"M17.41 7.96l-1.37-1.37c-.4-.4-.92-.59-1.43-.59-.52 0-1.04.2-1.43.59L10.3 9.45l-7.72 7.72c-.78.78-.78 2.05 0 2.83L4 21.41c.39.39.9.59 1.41.59.51 0 1.02-.2 1.41-.59l7.78-7.78 2.81-2.81c.8-.78.8-2.07 0-2.86zM5.41 20L4 18.59l7.72-7.72 1.47 1.35L5.41 20z\"/>\n",
              "  </svg>\n",
              "      </button>\n",
              "      \n",
              "  <style>\n",
              "    .colab-df-container {\n",
              "      display:flex;\n",
              "      flex-wrap:wrap;\n",
              "      gap: 12px;\n",
              "    }\n",
              "\n",
              "    .colab-df-convert {\n",
              "      background-color: #E8F0FE;\n",
              "      border: none;\n",
              "      border-radius: 50%;\n",
              "      cursor: pointer;\n",
              "      display: none;\n",
              "      fill: #1967D2;\n",
              "      height: 32px;\n",
              "      padding: 0 0 0 0;\n",
              "      width: 32px;\n",
              "    }\n",
              "\n",
              "    .colab-df-convert:hover {\n",
              "      background-color: #E2EBFA;\n",
              "      box-shadow: 0px 1px 2px rgba(60, 64, 67, 0.3), 0px 1px 3px 1px rgba(60, 64, 67, 0.15);\n",
              "      fill: #174EA6;\n",
              "    }\n",
              "\n",
              "    [theme=dark] .colab-df-convert {\n",
              "      background-color: #3B4455;\n",
              "      fill: #D2E3FC;\n",
              "    }\n",
              "\n",
              "    [theme=dark] .colab-df-convert:hover {\n",
              "      background-color: #434B5C;\n",
              "      box-shadow: 0px 1px 3px 1px rgba(0, 0, 0, 0.15);\n",
              "      filter: drop-shadow(0px 1px 2px rgba(0, 0, 0, 0.3));\n",
              "      fill: #FFFFFF;\n",
              "    }\n",
              "  </style>\n",
              "\n",
              "      <script>\n",
              "        const buttonEl =\n",
              "          document.querySelector('#df-b0de7985-027a-41ee-b54f-7fec2715237a button.colab-df-convert');\n",
              "        buttonEl.style.display =\n",
              "          google.colab.kernel.accessAllowed ? 'block' : 'none';\n",
              "\n",
              "        async function convertToInteractive(key) {\n",
              "          const element = document.querySelector('#df-b0de7985-027a-41ee-b54f-7fec2715237a');\n",
              "          const dataTable =\n",
              "            await google.colab.kernel.invokeFunction('convertToInteractive',\n",
              "                                                     [key], {});\n",
              "          if (!dataTable) return;\n",
              "\n",
              "          const docLinkHtml = 'Like what you see? Visit the ' +\n",
              "            '<a target=\"_blank\" href=https://colab.research.google.com/notebooks/data_table.ipynb>data table notebook</a>'\n",
              "            + ' to learn more about interactive tables.';\n",
              "          element.innerHTML = '';\n",
              "          dataTable['output_type'] = 'display_data';\n",
              "          await google.colab.output.renderOutput(dataTable, element);\n",
              "          const docLink = document.createElement('div');\n",
              "          docLink.innerHTML = docLinkHtml;\n",
              "          element.appendChild(docLink);\n",
              "        }\n",
              "      </script>\n",
              "    </div>\n",
              "  </div>\n",
              "  "
            ]
          },
          "metadata": {},
          "execution_count": 21
        }
      ]
    },
    {
      "cell_type": "code",
      "source": [
        "plt.figure(figsize = (10,5))\n",
        "sns.distplot(error_df[error_df['true_class']==0]['reconstruction_error'], bins = 5, label = 'Normal')\n",
        "sns.distplot(error_df[error_df['true_class']==1]['reconstruction_error'], bins=5, label = 'Fraud')\n",
        "plt.legend()\n",
        "plt.show()"
      ],
      "metadata": {
        "colab": {
          "base_uri": "https://localhost:8080/",
          "height": 424
        },
        "id": "9oLffvKtOPEo",
        "outputId": "8745bbb7-178f-450d-fe37-bc7d5f42e7d2"
      },
      "execution_count": null,
      "outputs": [
        {
          "output_type": "stream",
          "name": "stderr",
          "text": [
            "/usr/local/lib/python3.7/dist-packages/seaborn/distributions.py:2619: FutureWarning: `distplot` is a deprecated function and will be removed in a future version. Please adapt your code to use either `displot` (a figure-level function with similar flexibility) or `histplot` (an axes-level function for histograms).\n",
            "  warnings.warn(msg, FutureWarning)\n",
            "/usr/local/lib/python3.7/dist-packages/seaborn/distributions.py:2619: FutureWarning: `distplot` is a deprecated function and will be removed in a future version. Please adapt your code to use either `displot` (a figure-level function with similar flexibility) or `histplot` (an axes-level function for histograms).\n",
            "  warnings.warn(msg, FutureWarning)\n"
          ]
        },
        {
          "output_type": "display_data",
          "data": {
            "text/plain": [
              "<Figure size 720x360 with 1 Axes>"
            ],
            "image/png": "[encoded data removed]"
          },
          "metadata": {
            "needs_background": "light"
          }
        }
      ]
    },
    {
      "cell_type": "code",
      "source": [
        "from sklearn.metrics import (confusion_matrix, precision_recall_curve, auc,\n",
        "                             roc_curve, recall_score, classification_report, f1_score,\n",
        "                             precision_recall_fscore_support, roc_auc_score)\n",
        "threshold = 1.4"
      ],
      "metadata": {
        "id": "Apoj0VPUOitF"
      },
      "execution_count": null,
      "outputs": []
    },
    {
      "cell_type": "code",
      "source": [
        "groups = error_df.groupby('true_class')\n",
        "fig, ax = plt.subplots(figsize = (20,8))\n",
        "\n",
        "for name, group in groups:\n",
        "    ax.plot(group.index, group.reconstruction_error, marker='+', ms=10, linestyle='',\n",
        "            label= \"Fraud\" if name == 1 else \"Normal\")\n",
        "ax.hlines(threshold, ax.get_xlim()[0], ax.get_xlim()[1], colors=\"r\", zorder=100, label='Threshold')\n",
        "ax.legend()\n",
        "plt.title(\"Reconstruction error for different classes\")\n",
        "plt.ylabel(\"Reconstruction error\")\n",
        "plt.xlabel(\"Data point index\")\n",
        "plt.grid()\n",
        "plt.show();"
      ],
      "metadata": {
        "colab": {
          "base_uri": "https://localhost:8080/",
          "height": 380
        },
        "id": "_dU9-c8eOiwJ",
        "outputId": "55f16ef5-50b0-4bc9-9582-040d98f3d7b5"
      },
      "execution_count": null,
      "outputs": [
        {
          "output_type": "display_data",
          "data": {
            "text/plain": [
              "<Figure size 1440x576 with 1 Axes>"
            ],
            "image/png": "[encoded data removed]"
          },
          "metadata": {
            "needs_background": "light"
          }
        }
      ]
    },
    {
      "cell_type": "code",
      "source": [
        "fpr, tpr, thres = roc_curve(error_df.true_class, error_df.reconstruction_error)\n",
        "plt.plot(fpr, tpr, label = 'AUC') \n",
        "plt.plot([0,1], [0,1], ':', label = 'Random') \n",
        "plt.legend() \n",
        "plt.grid() \n",
        "plt.ylabel(\"TPR\") \n",
        "plt.xlabel(\"FPR\") \n",
        "plt.title('ROC') \n",
        "plt.show()"
      ],
      "metadata": {
        "colab": {
          "base_uri": "https://localhost:8080/",
          "height": 295
        },
        "id": "BNSZORx8OnQP",
        "outputId": "34052079-c067-4fb4-b048-c626d91f63c6"
      },
      "execution_count": null,
      "outputs": [
        {
          "output_type": "display_data",
          "data": {
            "text/plain": [
              "<Figure size 432x288 with 1 Axes>"
            ],
            "image/png": "[encoded data removed]"
          },
          "metadata": {
            "needs_background": "light"
          }
        }
      ]
    },
    {
      "cell_type": "code",
      "source": [
        "LABELS = ['Normal', 'Fraud']\n",
        "threshold = 2\n",
        "y_pred = [1 if e > threshold else 0 for e in error_df.reconstruction_error.values]\n",
        "conf_matrix = confusion_matrix(error_df.true_class, y_pred)\n",
        "sns.heatmap(conf_matrix, xticklabels=LABELS, yticklabels=LABELS, annot=True, fmt=\"d\", cmap='Greens');\n",
        "plt.title(\"Confusion matrix\")\n",
        "plt.ylabel('True class')\n",
        "plt.xlabel('Predicted class')\n",
        "plt.show()"
      ],
      "metadata": {
        "colab": {
          "base_uri": "https://localhost:8080/",
          "height": 295
        },
        "id": "G2wR5w3aOnS2",
        "outputId": "f5fc93cd-1fa9-456b-be0a-a48e570d58fc"
      },
      "execution_count": null,
      "outputs": [
        {
          "output_type": "display_data",
          "data": {
            "text/plain": [
              "<Figure size 432x288 with 2 Axes>"
            ],
            "image/png": "[encoded data removed]"
          },
          "metadata": {
            "needs_background": "light"
          }
        }
      ]
    },
    {
      "cell_type": "code",
      "source": [
        "## Chosen metric is AUC ROC as data is imbalanced\n",
        "print(\"Area under ROC : \", roc_auc_score(error_df.true_class,y_pred ))"
      ],
      "metadata": {
        "colab": {
          "base_uri": "https://localhost:8080/"
        },
        "id": "t56eD5xcOnVd",
        "outputId": "2983404e-772e-4efa-ffc3-4a48a68a54a7"
      },
      "execution_count": null,
      "outputs": [
        {
          "output_type": "stream",
          "name": "stdout",
          "text": [
            "Area under ROC :  0.9060506342379383\n"
          ]
        }
      ]
    },
    {
      "cell_type": "code",
      "source": [
        "print(classification_report(error_df.true_class,y_pred))"
      ],
      "metadata": {
        "colab": {
          "base_uri": "https://localhost:8080/"
        },
        "id": "bsB_an5rOuYs",
        "outputId": "5a4994fa-5b4c-4c03-e444-b82035284717"
      },
      "execution_count": null,
      "outputs": [
        {
          "output_type": "stream",
          "name": "stdout",
          "text": [
            "              precision    recall  f1-score   support\n",
            "\n",
            "           0       1.00      0.97      0.98     56864\n",
            "           1       0.04      0.85      0.08        98\n",
            "\n",
            "    accuracy                           0.96     56962\n",
            "   macro avg       0.52      0.91      0.53     56962\n",
            "weighted avg       1.00      0.96      0.98     56962\n",
            "\n"
          ]
        }
      ]
    }
  ]
}